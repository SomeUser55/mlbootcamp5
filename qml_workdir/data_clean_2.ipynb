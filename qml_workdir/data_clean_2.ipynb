{
 "cells": [
  {
   "cell_type": "code",
   "execution_count": 1,
   "metadata": {
    "collapsed": false,
    "deletable": true,
    "editable": true
   },
   "outputs": [],
   "source": [
    "import sys, os\n",
    "#sys.path.insert(0, os.getcwd() + '//..')\n",
    "os.chdir('d:/ml/mlbootcamp5')\n",
    "\n",
    "\n",
    "import pandas as pd\n",
    "import numpy as np\n",
    "\n",
    "import matplotlib.pyplot as plt\n",
    "import seaborn as sns\n",
    "color = sns.color_palette()\n",
    "\n",
    "from datetime import datetime\n",
    "\n",
    "import qml_workdir.classes\n",
    "\n",
    "from qml_workdir.classes.config import config\n",
    "\n",
    "\n",
    "%matplotlib inline"
   ]
  },
  {
   "cell_type": "code",
   "execution_count": 2,
   "metadata": {
    "collapsed": false,
    "deletable": true,
    "editable": true
   },
   "outputs": [],
   "source": [
    "ids_train = pd.read_csv(config.QML_DATA_DIR + \"ids_train.csv\", index_col='id').index\n",
    "ids_test = pd.read_csv(config.QML_DATA_DIR + \"ids_test.csv\", index_col='id').index\n"
   ]
  },
  {
   "cell_type": "code",
   "execution_count": 3,
   "metadata": {
    "collapsed": false,
    "deletable": true,
    "editable": true
   },
   "outputs": [],
   "source": [
    "train_raw = pd.read_csv(config.QML_DATA_DIR + \"raw/train.csv\", delimiter=\";\", index_col=\"id\", na_values=['None'])\n",
    "test_raw = pd.read_csv(config.QML_DATA_DIR + \"raw/test.csv\", delimiter=\";\", index_col=\"id\", na_values=['None'])\n",
    "\n",
    "train_raw.drop(train_raw.columns, axis=1).to_csv(config.QML_DATA_DIR + \"ids_train.csv\")\n",
    "test_raw.drop(test_raw.columns, axis=1).to_csv(config.QML_DATA_DIR + \"ids_test.csv\")\n",
    "\n",
    "train_raw.drop(set(train_raw.columns)-set(['cardio']), axis=1).to_csv(config.QML_DATA_DIR + \"train_y.csv\")\n",
    "\n",
    "train_raw.drop(['cardio'], axis=1, inplace=True)\n",
    "\n",
    "all_raw = pd.concat([train_raw, test_raw])\n",
    "\n",
    "\n",
    "ids_train = pd.read_csv(config.QML_DATA_DIR + \"ids_train.csv\", index_col='id').index\n",
    "ids_test = pd.read_csv(config.QML_DATA_DIR + \"ids_test.csv\", index_col='id').index\n"
   ]
  },
  {
   "cell_type": "code",
   "execution_count": null,
   "metadata": {
    "collapsed": false,
    "deletable": true,
    "editable": true
   },
   "outputs": [],
   "source": []
  },
  {
   "cell_type": "code",
   "execution_count": 36,
   "metadata": {
    "collapsed": false,
    "deletable": true,
    "editable": true
   },
   "outputs": [],
   "source": [
    "#raw with na\n",
    "DATA_ID = 1\n",
    "all = all_raw.copy()\n",
    "\n",
    "all = pd.get_dummies(all, columns=['gender']).rename(columns={'gender_1': 'gender_female', 'gender_2': 'gender_male'})\n",
    "\n",
    "\n",
    "all.loc[ids_train].to_csv(config.QML_TRAIN_X_FILE_MASK.format(DATA_ID))\n",
    "all.loc[ids_test].to_csv(config.QML_TEST_X_FILE_MASK.format(DATA_ID))"
   ]
  },
  {
   "cell_type": "code",
   "execution_count": null,
   "metadata": {
    "collapsed": true,
    "deletable": true,
    "editable": true
   },
   "outputs": [],
   "source": []
  },
  {
   "cell_type": "code",
   "execution_count": null,
   "metadata": {
    "collapsed": true,
    "deletable": true,
    "editable": true
   },
   "outputs": [],
   "source": []
  },
  {
   "cell_type": "code",
   "execution_count": 40,
   "metadata": {
    "collapsed": false,
    "deletable": true,
    "editable": true
   },
   "outputs": [],
   "source": [
    "#raw filled na\n",
    "DATA_ID = 2\n",
    "\n",
    "train = pd.read_csv(config.QML_TRAIN_X_FILE_MASK.format(1), index_col='id')\n",
    "test = pd.read_csv(config.QML_TEST_X_FILE_MASK.format(1), index_col='id')\n",
    "all = pd.concat([train, test])\n",
    "\n",
    "all.fillna(0, inplace=True)\n",
    "\n",
    "\n",
    "all.loc[ids_train].to_csv(config.QML_TRAIN_X_FILE_MASK.format(DATA_ID))\n",
    "all.loc[ids_test].to_csv(config.QML_TEST_X_FILE_MASK.format(DATA_ID))"
   ]
  },
  {
   "cell_type": "code",
   "execution_count": null,
   "metadata": {
    "collapsed": false,
    "deletable": true,
    "editable": true
   },
   "outputs": [],
   "source": []
  },
  {
   "cell_type": "code",
   "execution_count": null,
   "metadata": {
    "collapsed": true,
    "deletable": true,
    "editable": true
   },
   "outputs": [],
   "source": []
  },
  {
   "cell_type": "code",
   "execution_count": 42,
   "metadata": {
    "collapsed": true,
    "deletable": true,
    "editable": true
   },
   "outputs": [],
   "source": [
    "#with imt\n",
    "DATA_ID = 3\n",
    "\n",
    "train = pd.read_csv(config.QML_TRAIN_X_FILE_MASK.format(2), index_col='id')\n",
    "test = pd.read_csv(config.QML_TEST_X_FILE_MASK.format(2), index_col='id')\n",
    "all = pd.concat([train, test])\n",
    "\n",
    "all['imt'] = all['weight'] / (all['height']/100)/ (all['height']/100)\n",
    "\n",
    "\n",
    "all.loc[ids_train].to_csv(config.QML_TRAIN_X_FILE_MASK.format(DATA_ID))\n",
    "all.loc[ids_test].to_csv(config.QML_TEST_X_FILE_MASK.format(DATA_ID))"
   ]
  },
  {
   "cell_type": "code",
   "execution_count": 4,
   "metadata": {
    "collapsed": true,
    "deletable": true,
    "editable": true
   },
   "outputs": [],
   "source": [
    "train = pd.read_csv(config.QML_TRAIN_X_FILE_MASK.format(2), index_col='id')\n",
    "test = pd.read_csv(config.QML_TEST_X_FILE_MASK.format(2), index_col='id')\n",
    "all = pd.concat([train, test])"
   ]
  },
  {
   "cell_type": "code",
   "execution_count": 14,
   "metadata": {
    "collapsed": false,
    "deletable": true,
    "editable": true
   },
   "outputs": [
    {
     "data": {
      "text/plain": [
       "gender_male\n",
       "0    70.0\n",
       "1    75.0\n",
       "Name: weight, dtype: float64"
      ]
     },
     "execution_count": 14,
     "metadata": {},
     "output_type": "execute_result"
    }
   ],
   "source": [
    "all.groupby(['gender_male']).median()['weight']\n",
    "#len(all[all['weight']<40])"
   ]
  },
  {
   "cell_type": "code",
   "execution_count": 16,
   "metadata": {
    "collapsed": false,
    "deletable": true,
    "editable": true
   },
   "outputs": [],
   "source": [
    "#raw + processed data\n",
    "DATA_ID = 104\n",
    "\n",
    "train = pd.read_csv(config.QML_TRAIN_X_FILE_MASK.format(1), index_col='id')\n",
    "test = pd.read_csv(config.QML_TEST_X_FILE_MASK.format(1), index_col='id')\n",
    "all = pd.concat([train, test])\n",
    "all = pd.concat([train, test])\n",
    "\n",
    "\n",
    "\n",
    "all['age_years'] = all['age'] / 365.25\n",
    "all.ix[all['height']>210, 'height'] = all[all['height']<210]['height'].max()\n",
    "\n",
    "\n",
    "all['height_low'] = np.int32(all['height']<130)\n",
    "all.ix[(all['height']<130) & (all['gender_male']==1) , 'height'] = 170\n",
    "all.ix[(all['height']<130) & (all['gender_male']==0) , 'height'] = 161\n",
    "\n",
    "\n",
    "all['weight_low'] = np.int32(all['weight']<40)\n",
    "all.ix[(all['weight']<40) & (all['gender_male']==1), 'weight'] = 75\n",
    "all.ix[(all['weight']<40) & (all['gender_male']==0), 'weight'] = 70\n",
    "\n",
    "all['cholesterol_all'] = all['cholesterol']\n",
    "all['gluc_all'] = all['gluc']\n",
    "\n",
    "all = pd.get_dummies(all, columns=['cholesterol', 'gluc'])\n",
    "\n",
    "all['ap_error'] = 0\n",
    "all['ap_error_swap'] = 0\n",
    "\n",
    "all.ix[all['ap_hi']>10000, 'ap_hi'] = np.int64(all.ix[all['ap_hi']>10000, 'ap_hi']/100)\n",
    "all.ix[all['ap_hi']>10000, 'ap_error'] = 1\n",
    "\n",
    "\n",
    "all.ix[all['ap_hi']>1000, 'ap_hi'] = np.int64(all.ix[all['ap_hi']>1000, 'ap_hi']/10)\n",
    "all.ix[all['ap_hi']>1000, 'ap_error'] = 1\n",
    "\n",
    "\n",
    "all.ix[all['ap_hi']<=-100, 'ap_hi'] = np.int64(-all.ix[all['ap_hi']<=-100, 'ap_hi'])\n",
    "all.ix[all['ap_hi']<=-100, 'ap_error'] = 1\n",
    "\n",
    "all.ix[all['ap_hi']<0, 'ap_hi'] = np.int64(-all.ix[all['ap_hi']<0, 'ap_hi'])\n",
    "all.ix[all['ap_hi']<0, 'ap_error'] = 1\n",
    "\n",
    "\n",
    "ix = (all['ap_hi']==1) & (all['ap_lo']>1000)\n",
    "all.ix[ix, 'ap_hi'], all.ix[ix, 'ap_lo'] = \\\n",
    "np.int64( all.ix[ix, 'ap_hi']*100 + all.ix[ix, 'ap_lo']/100), np.int64(((all.ix[ix, 'ap_lo']/10)%10))*10\n",
    "all.ix[ix, 'ap_error'] = 1\n",
    "\n",
    "ix = (all['ap_hi']>600) & (all['ap_lo']==0)\n",
    "all.ix[ix, 'ap_hi'], all.ix[ix, 'ap_lo'] = \\\n",
    "np.int64(all.ix[ix, 'ap_hi']/10), np.int64(all.ix[ix, 'ap_hi']%10)*10\n",
    "all.ix[ix, 'ap_error'] = 1\n",
    "\n",
    "ix = (all['ap_hi']>240) &(all['ap_hi']<=600) & (all['ap_lo']==0)\n",
    "all.ix[ix, 'ap_hi'], all.ix[ix, 'ap_lo'] = \\\n",
    "np.int64(100 + all.ix[ix, 'ap_hi']/10), np.int64(all.ix[ix, 'ap_hi']%10)*10\n",
    "all.ix[ix, 'ap_error'] = 1\n",
    "\n",
    "\n",
    "ix = (all['ap_hi']>=400) &(all['ap_hi']<500)\n",
    "all.ix[ix, 'ap_hi'] = np.int64(all.ix[ix, 'ap_hi'])-300\n",
    "all.ix[ix, 'ap_error'] = 1\n",
    "\n",
    "\n",
    "ix = (all['ap_hi']>=900) &(all['ap_hi']<1000)\n",
    "all.ix[ix, 'ap_hi'] = np.int64(all.ix[ix, 'ap_hi']/100)*10\n",
    "all.ix[ix, 'ap_error'] = 1\n",
    "\n",
    "\n",
    "ix = (all['ap_hi']>=700) &(all['ap_hi']<800)\n",
    "all.ix[ix, 'ap_hi'] = np.int64(all.ix[ix, 'ap_hi']/100)*10+100\n",
    "all.ix[ix, 'ap_error'] = 1\n",
    "\n",
    "\n",
    "all.ix[all['ap_lo']<0, 'ap_lo'] = np.int64(-all.ix[all['ap_lo']<0, 'ap_lo'])\n",
    "all.ix[all['ap_lo']<0, 'ap_error'] = 1\n",
    "\n",
    "\n",
    "ix = (all['ap_hi']<100) & (all['ap_lo']==0)\n",
    "all.ix[ix, 'ap_hi'], all.ix[ix, 'ap_lo'] = \\\n",
    "np.int64(all.ix[ix, 'ap_hi']*10), np.int64(all.ix[ix, 'ap_hi']*10-40)\n",
    "all.ix[ix, 'ap_error'] = 1\n",
    "\n",
    "\n",
    "ix = (all['ap_hi']>100) & (all['ap_lo']==0) & (all['ap_hi']%10==0)\n",
    "all.ix[ix, 'ap_lo'] = np.int64(all.ix[ix, 'ap_hi'] - 40)\n",
    "all.ix[ix, 'ap_error'] = 1\n",
    "\n",
    "\n",
    "ix = (all['ap_hi']>100) & (all['ap_lo']==0) & (all['ap_hi']%10!=0) & (all['ap_hi']%10>=2)\n",
    "all.ix[ix, 'ap_hi'], all.ix[ix, 'ap_lo'] = \\\n",
    "np.int64(all.ix[ix, 'ap_hi']/10)*10, np.int64(all.ix[ix, 'ap_hi']%10)*10\n",
    "all.ix[ix, 'ap_error'] = 1\n",
    "\n",
    "\n",
    "ix = (all['ap_hi']>100) & (all['ap_lo']==0) & (all['ap_hi']%10!=0) & (all['ap_hi']%10<2)\n",
    "all.ix[ix, 'ap_hi'], all.ix[ix, 'ap_lo'] = \\\n",
    "np.int64(all.ix[ix, 'ap_hi']/10)*10, np.int64(all.ix[ix, 'ap_hi']%10)*100\n",
    "all.ix[ix, 'ap_error'] = 1\n",
    "\n",
    "\n",
    "all.ix[all['ap_lo']>=10000, 'ap_lo'] = np.int64(all.ix[all['ap_lo']>=10000, 'ap_lo']/100)\n",
    "all.ix[all['ap_lo']>=10000, 'ap_error'] = 1\n",
    "\n",
    "\n",
    "all.ix[all['ap_lo']>=4500, 'ap_lo'] = np.int64(all.ix[all['ap_lo']>4500, 'ap_lo']/100)\n",
    "all.ix[all['ap_lo']>=4500, 'ap_error'] = 1\n",
    "\n",
    "\n",
    "all.ix[all['ap_lo']>=4000, 'ap_lo'] = np.int64(all.ix[all['ap_lo']>4000, 'ap_lo']/100)+100\n",
    "all.ix[all['ap_lo']>=4000, 'ap_error'] = 1\n",
    "\n",
    "\n",
    "all.ix[all['ap_lo']>=1500, 'ap_lo'] = np.int64(all.ix[all['ap_lo']>1500, 'ap_lo']/10)%100\n",
    "all.ix[all['ap_lo']>=1500, 'ap_error'] = 1\n",
    "\n",
    "\n",
    "all.ix[all['ap_lo']>=1200, 'ap_lo'] = np.int64(all.ix[all['ap_lo']>=1200, 'ap_lo']/10)\n",
    "all.ix[all['ap_lo']>=1200, 'ap_error'] = 1\n",
    "\n",
    "\n",
    "all.ix[all['ap_lo']>=1150, 'ap_lo'] = np.int64(all.ix[all['ap_lo']>=1150, 'ap_lo']/100)*10\n",
    "all.ix[all['ap_lo']>=1150, 'ap_error'] = 1\n",
    "\n",
    "\n",
    "all.ix[all['ap_lo']>=1100, 'ap_lo'] = np.int64(all.ix[all['ap_lo']>=1100, 'ap_lo']/10)*10%1000\n",
    "all.ix[all['ap_lo']>=1100, 'ap_error'] = 1\n",
    "\n",
    "\n",
    "all.ix[all['ap_lo']>=1000, 'ap_lo'] = np.int64(all.ix[all['ap_lo']>=1000, 'ap_lo']/100)*10\n",
    "all.ix[all['ap_lo']>=1000, 'ap_error'] = 1\n",
    "\n",
    "\n",
    "all.ix[all['ap_lo']>=500, 'ap_lo'] = np.int64(all.ix[all['ap_lo']>=500, 'ap_lo']/10)\n",
    "all.ix[all['ap_lo']>=500, 'ap_error'] = 1\n",
    "\n",
    "\n",
    "ix = (all['ap_hi']>=100) & (all['ap_lo']<10)& (all['ap_lo']>1)\n",
    "all.ix[ix, 'ap_lo'] = np.int64(all.ix[ix, 'ap_lo'])*10\n",
    "all.ix[ix, 'ap_error'] = 1\n",
    "\n",
    "\n",
    "ix = (all['ap_hi']>100) & (all['ap_lo']>=10)& (all['ap_lo']<19)\n",
    "all.ix[ix, 'ap_lo'] = np.int64(all.ix[ix, 'ap_lo'])*10\n",
    "all.ix[ix, 'ap_error'] = 1\n",
    "\n",
    "\n",
    "ix = (all['ap_hi']>=100) & (all['ap_lo']==1)\n",
    "all.ix[ix, 'ap_lo'] = np.int64(all.ix[ix, 'ap_lo'])*100\n",
    "all.ix[ix, 'ap_error'] = 1\n",
    "\n",
    "\n",
    "all.ix[all['ap_lo']<10, 'ap_lo'] = np.int64(all.ix[all['ap_lo']<10, 'ap_lo']*10)\n",
    "all.ix[all['ap_lo']<10, 'ap_error'] = 1\n",
    "\n",
    "\n",
    "ix = (all['ap_hi']>=100) & (all['ap_lo']==1)\n",
    "all.ix[ix, 'ap_lo'] = np.int64(all.ix[ix, 'ap_hi'] - 40)\n",
    "all.ix[ix, 'ap_error'] = 1\n",
    "\n",
    "\n",
    "ix = (all['ap_hi']>=100) & (all['ap_lo']<=40)\n",
    "all.ix[ix, 'ap_lo'] = np.int64(all.ix[ix, 'ap_hi'] - 40)\n",
    "all.ix[ix, 'ap_error'] = 1\n",
    "\n",
    "\n",
    "all.ix[all['ap_hi']<=10, 'ap_hi'] = np.int64(all.ix[all['ap_hi']<=10, 'ap_lo']+40)\n",
    "all.ix[all['ap_hi']<=10, 'ap_error'] = 1\n",
    "\n",
    "\n",
    "all.ix[all['ap_hi']<=20, 'ap_hi'] = np.int64(all.ix[all['ap_hi']<=20, 'ap_hi']*10)\n",
    "all.ix[all['ap_hi']<=20, 'ap_error'] = 1\n",
    "\n",
    "\n",
    "all.ix[all['ap_lo']<=10, 'ap_lo'] = np.int64(all.ix[all['ap_lo']<=10, 'ap_lo']*10)\n",
    "all.ix[all['ap_lo']<=10, 'ap_error'] = 1\n",
    "\n",
    "\n",
    "\n",
    "ix = (all['ap_lo']<=50) & (all['ap_hi']<=50)\n",
    "all.ix[ix, 'ap_hi'], all.ix[ix, 'ap_lo'] = 120, 80\n",
    "all.ix[ix, 'ap_error'] = 1\n",
    "\n",
    "\n",
    "all.ix[all['ap_lo']<40, 'ap_lo'] = np.int64(all.ix[all['ap_lo']<40, 'ap_hi']-30)\n",
    "all.ix[all['ap_lo']<40, 'ap_error'] = 1\n",
    "\n",
    "\n",
    "ix = (all['ap_hi']==all['ap_lo'])\n",
    "all.ix[ix, 'ap_hi'], all.ix[ix, 'ap_lo'] = 120, 80\n",
    "all.ix[ix, 'ap_error'] = 1\n",
    "\n",
    "\n",
    "ix = (all['ap_hi']<all['ap_lo'])\n",
    "all.ix[ix, 'ap_hi'], all.ix[ix, 'ap_lo'] = all.ix[ix, 'ap_lo'], all.ix[ix, 'ap_hi']\n",
    "all.ix[ix, 'ap_error'] = 1\n",
    "all.ix[ix, 'ap_error_swap'] = 1\n",
    "\n",
    "\n",
    "\n",
    "all.loc[ids_train].to_csv(config.QML_TRAIN_X_FILE_MASK.format(DATA_ID))\n",
    "all.loc[ids_test].to_csv(config.QML_TEST_X_FILE_MASK.format(DATA_ID))"
   ]
  },
  {
   "cell_type": "code",
   "execution_count": null,
   "metadata": {
    "collapsed": true,
    "deletable": true,
    "editable": true
   },
   "outputs": [],
   "source": []
  },
  {
   "cell_type": "code",
   "execution_count": null,
   "metadata": {
    "collapsed": true,
    "deletable": true,
    "editable": true
   },
   "outputs": [],
   "source": []
  },
  {
   "cell_type": "code",
   "execution_count": 17,
   "metadata": {
    "collapsed": true,
    "deletable": true,
    "editable": true
   },
   "outputs": [],
   "source": [
    "#with imt\n",
    "DATA_ID = 105\n",
    "\n",
    "train = pd.read_csv(config.QML_TRAIN_X_FILE_MASK.format(104), index_col='id')\n",
    "test = pd.read_csv(config.QML_TEST_X_FILE_MASK.format(104), index_col='id')\n",
    "all = pd.concat([train, test])\n",
    "\n",
    "all['imt'] = all['weight'] / (all['height']/100)/ (all['height']/100)\n",
    "\n",
    "\n",
    "all.loc[ids_train].to_csv(config.QML_TRAIN_X_FILE_MASK.format(DATA_ID))\n",
    "all.loc[ids_test].to_csv(config.QML_TEST_X_FILE_MASK.format(DATA_ID))"
   ]
  },
  {
   "cell_type": "code",
   "execution_count": null,
   "metadata": {
    "collapsed": true,
    "deletable": true,
    "editable": true
   },
   "outputs": [],
   "source": []
  },
  {
   "cell_type": "code",
   "execution_count": null,
   "metadata": {
    "collapsed": true,
    "deletable": true,
    "editable": true
   },
   "outputs": [],
   "source": []
  },
  {
   "cell_type": "code",
   "execution_count": 18,
   "metadata": {
    "collapsed": true,
    "deletable": true,
    "editable": true
   },
   "outputs": [],
   "source": [
    "#with imt stat\n",
    "DATA_ID = 106\n",
    "\n",
    "train = pd.read_csv(config.QML_TRAIN_X_FILE_MASK.format(105), index_col='id')\n",
    "test = pd.read_csv(config.QML_TEST_X_FILE_MASK.format(105), index_col='id')\n",
    "all = pd.concat([train, test])\n",
    "\n",
    "all['imt_class'] = 0\n",
    "\n",
    "all.ix[(16<=all['imt']) & (all['imt']<18.5) , 'imt_class'] = 1\n",
    "all.ix[(18.5<=all['imt']) & (all['imt']<25) , 'imt_class'] = 2\n",
    "all.ix[(25<=all['imt']) & (all['imt']<30) , 'imt_class'] = 3\n",
    "all.ix[(30<=all['imt']) & (all['imt']<35) , 'imt_class'] = 4\n",
    "all.ix[(35<=all['imt']) & (all['imt']<40) , 'imt_class'] =5\n",
    "all.ix[(40<=all['imt']) , 'imt_class'] = 6\n",
    "\n",
    "all['imt_class_all'] = all['imt_class']\n",
    "all = pd.get_dummies(all, columns=['imt_class'])\n",
    "\n",
    "\n",
    "all.loc[ids_train].to_csv(config.QML_TRAIN_X_FILE_MASK.format(DATA_ID))\n",
    "all.loc[ids_test].to_csv(config.QML_TEST_X_FILE_MASK.format(DATA_ID))"
   ]
  },
  {
   "cell_type": "code",
   "execution_count": null,
   "metadata": {
    "collapsed": false,
    "deletable": true,
    "editable": true
   },
   "outputs": [],
   "source": []
  },
  {
   "cell_type": "code",
   "execution_count": null,
   "metadata": {
    "collapsed": false,
    "deletable": true,
    "editable": true
   },
   "outputs": [],
   "source": []
  },
  {
   "cell_type": "code",
   "execution_count": null,
   "metadata": {
    "collapsed": true,
    "deletable": true,
    "editable": true
   },
   "outputs": [],
   "source": []
  },
  {
   "cell_type": "code",
   "execution_count": null,
   "metadata": {
    "collapsed": true,
    "deletable": true,
    "editable": true
   },
   "outputs": [],
   "source": []
  },
  {
   "cell_type": "code",
   "execution_count": 19,
   "metadata": {
    "collapsed": false,
    "deletable": true,
    "editable": true
   },
   "outputs": [
    {
     "name": "stdout",
     "output_type": "stream",
     "text": [
      "0\n",
      "1\n",
      "2\n"
     ]
    },
    {
     "data": {
      "text/plain": [
       "936"
      ]
     },
     "execution_count": 19,
     "metadata": {},
     "output_type": "execute_result"
    }
   ],
   "source": [
    "#6 + combinations\n",
    "DATA_ID = 120\n",
    "\n",
    "\n",
    "train = pd.read_csv(config.QML_TRAIN_X_FILE_MASK.format(106), index_col='id')\n",
    "test = pd.read_csv(config.QML_TEST_X_FILE_MASK.format(106), index_col='id')\n",
    "all = pd.concat([train, test])\n",
    "\n",
    "\n",
    "from itertools import combinations\n",
    "\n",
    "cols = ['age', 'height', 'weight', 'ap_hi', 'ap_lo', #'smoke', 'alco', 'active',\n",
    "        'cholesterol_all', 'gluc_all', 'imt']\n",
    "\n",
    "cols_norm = {}\n",
    "for c in cols:\n",
    "    all[c+'_norm'] = (all[c] - all[c].mean()) / (all[c].max() - all[c].min())\n",
    "    cols_norm[c] = c+'_norm'\n",
    "    \n",
    "\n",
    "for c1, c2 in combinations(cols, 2):\n",
    "    all[\"x__{}__{}\".format(c1,c2)] = all[c1] * all[c2]\n",
    "    all[\"div__{}__{}\".format(c1,c2)] = all[c1] / (all[c2] if all[c2].min()>0 else all[c2]+1)\n",
    "    all[\"plus__{}__{}\".format(cols_norm[c1],cols_norm[c2])] = all[cols_norm[c1]] + all[cols_norm[c2]]\n",
    "    all[\"minus__{}__{}\".format(cols_norm[c1],cols_norm[c2])] = all[cols_norm[c1]] - all[cols_norm[c2]]\n",
    "print(0)\n",
    "for c1, c2, c3 in combinations(cols, 3):\n",
    "    all[\"x__{}__{}__{}\".format(c1,c2,c3)] = all[c1] * all[c2] * all[c3]\n",
    "    all[\"plus__{}__{}__{}\".format(cols_norm[c1],cols_norm[c2],cols_norm[c3])] = all[cols_norm[c1]] + all[cols_norm[c2]] + all[cols_norm[c3]]\n",
    "\n",
    "    all[\"minus1__{}__{}__{}\".format(cols_norm[c1],cols_norm[c2],cols_norm[c3])] = \\\n",
    "        all[cols_norm[c1]] + all[cols_norm[c2]] - all[cols_norm[c3]]\n",
    "    all[\"minus2__{}__{}__{}\".format(cols_norm[c1],cols_norm[c2],cols_norm[c3])] = \\\n",
    "        all[cols_norm[c1]] - all[cols_norm[c2]] + all[cols_norm[c3]]\n",
    "    all[\"minus3__{}__{}__{}\".format(cols_norm[c1],cols_norm[c2],cols_norm[c3])] = \\\n",
    "       - all[cols_norm[c1]] + all[cols_norm[c2]] + all[cols_norm[c3]]\n",
    "    all[\"minus4__{}__{}__{}\".format(cols_norm[c1],cols_norm[c2],cols_norm[c3])] = \\\n",
    "        all[cols_norm[c1]] - all[cols_norm[c2]] - all[cols_norm[c3]]\n",
    "    all[\"minus5__{}__{}__{}\".format(cols_norm[c1],cols_norm[c2],cols_norm[c3])] = \\\n",
    "       - all[cols_norm[c1]] + all[cols_norm[c2]] - all[cols_norm[c3]]\n",
    "    all[\"minus6__{}__{}__{}\".format(cols_norm[c1],cols_norm[c2],cols_norm[c3])] = \\\n",
    "       - all[cols_norm[c1]] - all[cols_norm[c2]] + all[cols_norm[c3]]\n",
    "        \n",
    "    all[\"div1__{}__{}__{}\".format(c1,c2,c3)] = 1 * all[c1] * all[c2] / all[c3]\n",
    "    all[\"div2__{}__{}__{}\".format(c1,c2,c3)] = 1 * all[c1] / all[c2] * all[c3]\n",
    "    all[\"div3__{}__{}__{}\".format(c1,c2,c3)] = 1 / all[c1] * all[c2] * all[c3]\n",
    "    all[\"div4__{}__{}__{}\".format(c1,c2,c3)] = 1 * all[c1] / all[c2] / all[c3]\n",
    "    all[\"div5__{}__{}__{}\".format(c1,c2,c3)] = 1 / all[c1] * all[c2] / all[c3]\n",
    "    all[\"div6__{}__{}__{}\".format(c1,c2,c3)] = 1 / all[c1] / all[c2] * all[c3]\n",
    "        \n",
    "    \n",
    "print(1)\n",
    "all.loc[ids_train].to_csv(config.QML_TRAIN_X_FILE_MASK.format(DATA_ID))\n",
    "print(2)\n",
    "all.loc[ids_test].to_csv(config.QML_TEST_X_FILE_MASK.format(DATA_ID))\n",
    "\n",
    "len(all.columns)"
   ]
  },
  {
   "cell_type": "code",
   "execution_count": 20,
   "metadata": {
    "collapsed": false,
    "deletable": true,
    "editable": true
   },
   "outputs": [
    {
     "data": {
      "text/plain": [
       "1"
      ]
     },
     "execution_count": 20,
     "metadata": {},
     "output_type": "execute_result"
    }
   ],
   "source": [
    "1"
   ]
  },
  {
   "cell_type": "code",
   "execution_count": null,
   "metadata": {
    "collapsed": false,
    "deletable": true,
    "editable": true
   },
   "outputs": [],
   "source": []
  },
  {
   "cell_type": "code",
   "execution_count": null,
   "metadata": {
    "collapsed": true,
    "deletable": true,
    "editable": true
   },
   "outputs": [],
   "source": []
  },
  {
   "cell_type": "code",
   "execution_count": null,
   "metadata": {
    "collapsed": true,
    "deletable": true,
    "editable": true
   },
   "outputs": [],
   "source": []
  },
  {
   "cell_type": "code",
   "execution_count": null,
   "metadata": {
    "collapsed": true,
    "deletable": true,
    "editable": true
   },
   "outputs": [],
   "source": []
  },
  {
   "cell_type": "code",
   "execution_count": null,
   "metadata": {
    "collapsed": true,
    "deletable": true,
    "editable": true
   },
   "outputs": [],
   "source": []
  },
  {
   "cell_type": "code",
   "execution_count": 21,
   "metadata": {
    "collapsed": true,
    "deletable": true,
    "editable": true
   },
   "outputs": [],
   "source": [
    "#43 + na subjactive\n",
    "DATA_ID = 147\n",
    "\n",
    "\n",
    "#train = pd.read_csv(config.QML_TRAIN_X_FILE_MASK.format(120), index_col='id')\n",
    "#test = pd.read_csv(config.QML_TEST_X_FILE_MASK.format(120), index_col='id')\n",
    "#all = pd.concat([train, test])\n",
    "\n",
    "cols =[\n",
    "    'age',\n",
    "    'height',\n",
    "    'weight',\n",
    "    'ap_hi',\n",
    "    'ap_lo',\n",
    "    'smoke',\n",
    "    'alco',\n",
    "    'active',\n",
    "    'gender_male',\n",
    "    'height_low',\n",
    "    'weight_low',\n",
    "    'cholesterol_all',\n",
    "    'gluc_all',\n",
    "    'cholesterol_1',\n",
    "    'cholesterol_2',\n",
    "    'cholesterol_3',\n",
    "    'gluc_1',\n",
    "    'gluc_2',\n",
    "    'gluc_3',\n",
    "    'ap_error',\n",
    "    'ap_error_swap',\n",
    "    'imt',\n",
    "    'imt_class_all',\n",
    "    'imt_class_0',\n",
    "    'imt_class_1',\n",
    "    'imt_class_2',\n",
    "    'imt_class_3',\n",
    "    'imt_class_4',\n",
    "    'imt_class_5',\n",
    "    'imt_class_6',\n",
    "    'x__age__gluc_all',\n",
    "    'x__ap_hi__cholesterol_all',\n",
    "'div6__height__gluc_all__imt',\n",
    "'plus__age_norm__ap_hi_norm__gluc_all_norm',\n",
    "    'x__age__weight',\n",
    "    'div1__age__weight__cholesterol_all',\n",
    "'div6__age__weight__cholesterol_all',\n",
    "'plus__height_norm__weight_norm__gluc_all_norm',\n",
    "'div1__ap_hi__ap_lo__cholesterol_all',\n",
    "'div6__ap_hi__ap_lo__cholesterol_all',\n",
    "'plus__age_norm__gluc_all_norm__imt_norm',\n",
    "'minus6__ap_hi_norm__ap_lo_norm__cholesterol_all_norm',\n",
    "'minus1__ap_hi_norm__ap_lo_norm__cholesterol_all_norm',\n",
    "'minus6__age_norm__ap_lo_norm__cholesterol_all_norm',\n",
    "'minus1__age_norm__ap_lo_norm__cholesterol_all_norm',\n",
    "'div6__height__weight__ap_lo',\n",
    "'div2__ap_lo__cholesterol_all__gluc_all',\n",
    "'x__age__ap_hi__gluc_all',\n",
    "'div5__ap_lo__cholesterol_all__gluc_all',\n",
    "]\n",
    "\n",
    "all = all[cols]\n",
    "\n",
    "all['smoke'].fillna(0, inplace=True)\n",
    "all['alco'].fillna(0, inplace=True)\n",
    "all['active'].fillna(1, inplace=True)\n",
    "\n",
    "\n",
    "\n",
    "all.loc[ids_train].to_csv(config.QML_TRAIN_X_FILE_MASK.format(DATA_ID))\n",
    "all.loc[ids_test].to_csv(config.QML_TEST_X_FILE_MASK.format(DATA_ID))"
   ]
  },
  {
   "cell_type": "code",
   "execution_count": null,
   "metadata": {
    "collapsed": true
   },
   "outputs": [],
   "source": []
  },
  {
   "cell_type": "code",
   "execution_count": 22,
   "metadata": {
    "collapsed": true
   },
   "outputs": [],
   "source": [
    "#6 + score\n",
    "DATA_ID = 149\n",
    "\n",
    "\n",
    "train = pd.read_csv(config.QML_TRAIN_X_FILE_MASK.format(147), index_col='id')\n",
    "test = pd.read_csv(config.QML_TEST_X_FILE_MASK.format(147), index_col='id')\n",
    "all = pd.concat([train, test])\n",
    "\n",
    "\n",
    "#all['score_scale_val'] = 0\n",
    "\n",
    "chol4 = all['cholesterol_all'] == 1\n",
    "chol5 = all['cholesterol_all'] == 1\n",
    "chol6 = all['cholesterol_all'] == 1\n",
    "chol7 = all['cholesterol_all'] == 2\n",
    "chol8 = (all['cholesterol_all'] == 3) \n",
    "\n",
    "male = all['gender_male'] == 1\n",
    "female = all['gender_male'] == 0\n",
    "\n",
    "smoke = all['smoke'] == 1\n",
    "not_smoke = all['smoke'] == 0\n",
    "\n",
    "age40 = (all['age']/365.25 >=40) & (all['age']/365.25 < 45)\n",
    "age45 = (all['age']/365.25 >=45) & (all['age']/365.25 < 55)\n",
    "age55 = (all['age']/365.25 >=55) & (all['age']/365.25 < 60)\n",
    "age60 = (all['age']/365.25 >=60) & (all['age']/365.25 < 65)\n",
    "age65 = (all['age']/365.25 >=65)\n",
    "\n",
    "ap120 = (all['ap_hi'] >= 120) & (all['ap_hi'] < 140)\n",
    "ap140 = (all['ap_hi'] >= 140) & (all['ap_hi'] < 160)\n",
    "ap160 = (all['ap_hi'] >= 160) & (all['ap_hi'] < 170)\n",
    "ap180 = (all['ap_hi'] >= 180) \n",
    "\n",
    "\n",
    "data = [\n",
    "    [female, not_smoke, age65, ap180, 7, 8, 9, 10, 12],\n",
    "    [female, not_smoke, age65, ap160, 5, 5, 6, 7, 8],\n",
    "    [female, not_smoke, age65, ap140, 3, 3, 4, 5, 6],\n",
    "    [female, not_smoke, age65, ap120, 2, 2, 3, 3, 4],\n",
    "    \n",
    "    [female, not_smoke, age60, ap180, 4, 4, 5, 6, 7],\n",
    "    [female, not_smoke, age60, ap160, 3, 3, 3, 4, 5],\n",
    "    [female, not_smoke, age60, ap140, 2, 2, 2, 3, 3],\n",
    "    [female, not_smoke, age60, ap120, 1, 1, 2, 2, 2],\n",
    "    \n",
    "    [female, not_smoke, age55, ap180, 2, 2, 3, 3, 4],\n",
    "    [female, not_smoke, age55, ap160, 1, 2, 2, 2, 3],\n",
    "    [female, not_smoke, age55, ap140, 1, 1, 1, 1, 2],\n",
    "    [female, not_smoke, age55, ap120, 1, 1, 1, 1, 1],\n",
    "    \n",
    "    [female, not_smoke, age45, ap180, 1, 1, 1, 2, 2],\n",
    "    [female, not_smoke, age45, ap160, 1, 1, 1, 1, 1],\n",
    "    [female, not_smoke, age45, ap140, 0, 1, 1, 1, 1],\n",
    "    [female, not_smoke, age45, ap120, 0, 0, 1, 1, 1],\n",
    "    \n",
    "#     [female, not_smoke, age40, ap180, , , , , ],\n",
    "#     [female, not_smoke, age40, ap160, , , , , ],\n",
    "#     [female, not_smoke, age40, ap140, , , , , ],\n",
    "#     [female, not_smoke, age40, ap120, , , , , ],\n",
    "#######################################################\n",
    "    [female, smoke, age65, ap180, 13, 15, 17, 19, 22],\n",
    "    [female, smoke, age65, ap160, 9, 10, 12, 13, 16],\n",
    "    [female, smoke, age65, ap140, 6, 7, 8, 9, 11],\n",
    "    [female, smoke, age65, ap120, 4, 5, 5, 6, 7],\n",
    "    \n",
    "    [female, smoke, age60, ap180, 8, 9, 10, 11, 13],\n",
    "    [female, smoke, age60, ap160, 5, 6, 7, 8, 9],\n",
    "    [female, smoke, age60, ap140, 3, 4, 5, 5, 6],\n",
    "    [female, smoke, age60, ap120, 2, 3, 3, 4, 4],\n",
    "    \n",
    "    [female, smoke, age55, ap180, 4, 5, 5, 6, 7],\n",
    "    [female, smoke, age55, ap160, 3, 3, 4, 4, 5],\n",
    "    [female, smoke, age55, ap140, 2, 2, 2, 3, 3],\n",
    "    [female, smoke, age55, ap120, 1, 1, 2, 2, 2],\n",
    "    \n",
    "    [female, smoke, age45, ap180, 2, 2, 3, 3, 4],\n",
    "    [female, smoke, age45, ap160, 1, 2, 2, 2, 3],\n",
    "    [female, smoke, age45, ap140, 1, 1, 1, 1, 2],\n",
    "    [female, smoke, age45, ap120, 1, 1, 1, 1, 1],\n",
    "    \n",
    "    [female, smoke, age40, ap180, 0, 0, 0, 1, 1],\n",
    "#     [female, smoke, age40, ap160, , , , , ],\n",
    "#     [female, smoke, age40, ap140, , , , , ],\n",
    "#     [female, smoke, age40, ap120, , , , , ],\n",
    "#######################################################\n",
    "    [male, not_smoke, age65, ap180, 14, 16, 19, 22, 26],\n",
    "    [male, not_smoke, age65, ap160, 9, 11, 13, 15, 16],\n",
    "    [male, not_smoke, age65, ap140, 6, 8, 9, 11, 13],\n",
    "    [male, not_smoke, age65, ap120, 4, 5, 6, 7, 9],\n",
    "    \n",
    "    [male, not_smoke, age60, ap180, 9, 11, 13, 15, 18],\n",
    "    [male, not_smoke, age60, ap160, 6, 7, 9, 10, 12],\n",
    "    [male, not_smoke, age60, ap140, 4, 5, 6, 7, 9],\n",
    "    [male, not_smoke, age60, ap120, 3, 3, 4, 5, 6],\n",
    "    \n",
    "    [male, not_smoke, age55, ap180, 6, 7, 8, 10, 12],\n",
    "    [male, not_smoke, age55, ap160, 4, 5, 6, 7, 8],\n",
    "    [male, not_smoke, age55, ap140, 3, 3, 4, 5, 6],\n",
    "    [male, not_smoke, age55, ap120, 2, 2, 3, 3, 4],\n",
    "    \n",
    "    [male, not_smoke, age45, ap180, 4, 4, 5, 6, 7],\n",
    "    [male, not_smoke, age45, ap160, 2, 3, 3, 4, 5],\n",
    "    [male, not_smoke, age45, ap140, 2, 2, 2, 3, 3],\n",
    "    [male, not_smoke, age45, ap120, 1, 1, 2, 2, 2],\n",
    "    \n",
    "    [male, not_smoke, age40, ap180, 1, 1, 1, 2, 2],\n",
    "    [male, not_smoke, age40, ap160, 1, 1, 1, 1, 1],\n",
    "    [male, not_smoke, age40, ap140, 0, 1, 1, 1, 1],\n",
    "    [male, not_smoke, age40, ap120, 0, 0, 1, 1, 1],\n",
    "#######################################################\n",
    "    [male, smoke, age65, ap180, 26, 30, 35, 41, 47],\n",
    "    [male, smoke, age65, ap160, 18, 21, 25, 29, 34],\n",
    "    [male, smoke, age65, ap140, 13, 15, 17, 20, 24],\n",
    "    [male, smoke, age65, ap120, 9, 10, 12, 14, 17],\n",
    "    \n",
    "    [male, smoke, age60, ap180, 18, 21, 24, 28, 33],\n",
    "    [male, smoke, age60, ap160, 12, 14, 17, 20, 24],\n",
    "    [male, smoke, age60, ap140, 8, 10, 12, 14, 17],\n",
    "    [male, smoke, age60, ap120, 6, 7, 8, 10, 12],\n",
    "    \n",
    "    [male, smoke, age55, ap180, 12, 13, 16, 19, 22],\n",
    "    [male, smoke, age55, ap160, 8, 9, 11, 13, 16],\n",
    "    [male, smoke, age55, ap140, 5, 6, 8, 9, 11],\n",
    "    [male, smoke, age55, ap120, 4, 4, 5, 6, 8],\n",
    "    \n",
    "    [male, smoke, age45, ap180, 7, 8, 10, 12, 14],\n",
    "    [male, smoke, age45, ap160, 5, 6, 7, 8, 10],\n",
    "    [male, smoke, age45, ap140, 3, 4, 5, 6, 7],\n",
    "    [male, smoke, age45, ap120, 2, 3, 3, 4, 5],\n",
    "    \n",
    "    [male, smoke, age40, ap180, 2, 2, 3, 3, 4],\n",
    "    [male, smoke, age40, ap160, 1, 2, 2, 2, 3],\n",
    "    [male, smoke, age40, ap140, 1, 1, 1, 2, 2],\n",
    "    [male, smoke, age40, ap120, 1, 1, 1, 1, 1],\n",
    "]\n",
    "\n",
    "\n",
    "for gender, sm, age, aphi, c4, c5, c6, c7, c8 in data:\n",
    "    all.ix[gender & sm & aphi & chol8 , 'score_scale_val'] = c8\n",
    "    all.ix[gender & sm & aphi & chol7 , 'score_scale_val'] = c7\n",
    "    all.ix[gender & sm & aphi & chol6 , 'score_scale_val'] = c6\n",
    "    all.ix[gender & sm & aphi & chol5 , 'score_scale_val'] = c5\n",
    "    all.ix[gender & sm & aphi & chol4 , 'score_scale_val'] = c4\n",
    "\n",
    "\n",
    "\n",
    "all.loc[ids_train].to_csv(config.QML_TRAIN_X_FILE_MASK.format(DATA_ID))\n",
    "all.loc[ids_test].to_csv(config.QML_TEST_X_FILE_MASK.format(DATA_ID))"
   ]
  },
  {
   "cell_type": "code",
   "execution_count": null,
   "metadata": {
    "collapsed": true
   },
   "outputs": [],
   "source": []
  },
  {
   "cell_type": "code",
   "execution_count": null,
   "metadata": {
    "collapsed": true
   },
   "outputs": [],
   "source": []
  },
  {
   "cell_type": "code",
   "execution_count": null,
   "metadata": {
    "collapsed": true
   },
   "outputs": [],
   "source": []
  },
  {
   "cell_type": "code",
   "execution_count": 23,
   "metadata": {
    "collapsed": false,
    "deletable": true,
    "editable": true
   },
   "outputs": [
    {
     "data": {
      "text/plain": [
       "75"
      ]
     },
     "execution_count": 23,
     "metadata": {},
     "output_type": "execute_result"
    }
   ],
   "source": [
    "DATA_ID = 150\n",
    "\n",
    "\n",
    "train = pd.read_csv(config.QML_TRAIN_X_FILE_MASK.format(149), index_col='id')\n",
    "test = pd.read_csv(config.QML_TEST_X_FILE_MASK.format(149), index_col='id')\n",
    "all = pd.concat([train, test])\n",
    "\n",
    "\n",
    "\n",
    "from sklearn.cluster import KMeans\n",
    "\n",
    "k15 = KMeans(n_clusters=15, precompute_distances = True, n_jobs=-1)\n",
    "k15.fit(all.fillna(0))\n",
    "k7 = KMeans(n_clusters=7, precompute_distances = True, n_jobs=-1)\n",
    "k7.fit(all.fillna(0))\n",
    "k3 = KMeans(n_clusters=3, precompute_distances = True, n_jobs=-1)\n",
    "k3.fit(all.fillna(0))\n",
    "\n",
    "\n",
    "k15_res = k15.predict(all.fillna(0))[None].T\n",
    "k7_res =  k7.predict(all.fillna(0))[None].T\n",
    "k3_res =  k3.predict(all.fillna(0))[None].T\n",
    "\n",
    "all['k15'] = k15_res\n",
    "all['k7'] = k7_res\n",
    "all['k3'] = k3_res\n",
    "\n",
    "all = pd.get_dummies(all, columns=[\"k15\", \"k7\", \"k3\",])#\n",
    "\n",
    "\n",
    "all.loc[ids_train].to_csv(config.QML_TRAIN_X_FILE_MASK.format(DATA_ID))\n",
    "all.loc[ids_test].to_csv(config.QML_TEST_X_FILE_MASK.format(DATA_ID))\n",
    "\n",
    "len(all.columns)"
   ]
  },
  {
   "cell_type": "code",
   "execution_count": 24,
   "metadata": {
    "collapsed": false,
    "deletable": true,
    "editable": true
   },
   "outputs": [
    {
     "data": {
      "text/plain": [
       "188"
      ]
     },
     "execution_count": 24,
     "metadata": {},
     "output_type": "execute_result"
    }
   ],
   "source": [
    "#43 + stat feat for add\n",
    "DATA_ID = 151\n",
    "\n",
    "\n",
    "train = pd.read_csv(config.QML_TRAIN_X_FILE_MASK.format(150), index_col='id')\n",
    "test = pd.read_csv(config.QML_TEST_X_FILE_MASK.format(150), index_col='id')\n",
    "all = pd.concat([train, test])\n",
    "\n",
    "is_male = all['gender_male'] == 1\n",
    "is_female = all['gender_male'] == 0\n",
    "\n",
    "chol1 = all['cholesterol_all'] == 1\n",
    "chol2 = all['cholesterol_all'] == 2\n",
    "chol3 = all['cholesterol_all'] == 3\n",
    "\n",
    "gluc1 = all['gluc_all'] == 1\n",
    "gluc2 = all['gluc_all'] == 2\n",
    "gluc3 = all['gluc_all'] == 3\n",
    "\n",
    "age_year = all['age'] // 365.25\n",
    "all.ix[age_year < 40 , 'age_cat'] = 1\n",
    "all.ix[(age_year >= 40) & (age_year < 45) , 'age_cat'] = 2\n",
    "all.ix[(age_year >= 45) & (age_year < 50) , 'age_cat'] = 3\n",
    "all.ix[(age_year >= 50) & (age_year < 55) , 'age_cat'] = 4\n",
    "all.ix[(age_year >= 55) & (age_year < 60) , 'age_cat'] = 5\n",
    "all.ix[(age_year >= 60) , 'age_cat'] = 6\n",
    "\n",
    "age1 = all['age_cat'] == 1\n",
    "age2 = all['age_cat'] == 2\n",
    "age3 = all['age_cat'] == 3\n",
    "age4 = all['age_cat'] == 4\n",
    "age5 = all['age_cat'] == 5\n",
    "age6 = all['age_cat'] == 6\n",
    "\n",
    "for c in ['age', 'height', 'weight', 'ap_hi', 'ap_lo', \n",
    "       'cholesterol_all',\n",
    "       'gluc_all',  'imt', 'imt_class_all',\n",
    "        'x__age__gluc_all',\n",
    "       'x__ap_hi__cholesterol_all', 'div6__height__gluc_all__imt',\n",
    "       'plus__age_norm__ap_hi_norm__gluc_all_norm', 'x__age__weight',\n",
    "       'div1__age__weight__cholesterol_all',\n",
    "       'div6__age__weight__cholesterol_all',\n",
    "       'plus__height_norm__weight_norm__gluc_all_norm',\n",
    "       'div1__ap_hi__ap_lo__cholesterol_all',\n",
    "       'div6__ap_hi__ap_lo__cholesterol_all',\n",
    "       'plus__age_norm__gluc_all_norm__imt_norm',\n",
    "       'minus6__ap_hi_norm__ap_lo_norm__cholesterol_all_norm',\n",
    "       'minus1__ap_hi_norm__ap_lo_norm__cholesterol_all_norm',\n",
    "       'minus6__age_norm__ap_lo_norm__cholesterol_all_norm',\n",
    "       'minus1__age_norm__ap_lo_norm__cholesterol_all_norm',\n",
    "       'div6__height__weight__ap_lo', 'div2__ap_lo__cholesterol_all__gluc_all',\n",
    "       'x__age__ap_hi__gluc_all', 'div5__ap_lo__cholesterol_all__gluc_all',\n",
    "       'score_scale_val']:\n",
    "\n",
    "    all.ix[is_male, c + '___gender__scale'] = \\\n",
    "        (all.ix[is_male, c] - all.groupby(['gender_male']).mean()[c].loc[1]) / \\\n",
    "        all.groupby(['gender_male']).std()[c].loc[1]\n",
    "        \n",
    "    all.ix[is_female, c + '___gender__scale'] = \\\n",
    "        (all.ix[is_female, c] - all.groupby(['gender_male']).mean()[c].loc[0]) / \\\n",
    "        all.groupby(['gender_male']).std()[c].loc[0]\n",
    "        \n",
    "    if c != 'cholesterol_all':\n",
    "        group_by = all.groupby(['gender_male', 'cholesterol_all'])\n",
    "        \n",
    "        all.ix[is_male & chol1, c + '___gender_chol__scale'] = \\\n",
    "            (all.ix[is_male & chol1, c] - group_by.mean()[c].loc[1, 1]) / group_by.std()[c].loc[1, 1]\n",
    "\n",
    "        all.ix[is_male & chol2, c + '___gender_chol__scale'] = \\\n",
    "            (all.ix[is_male & chol2, c] - group_by.mean()[c].loc[1, 2]) / group_by.std()[c].loc[1, 2]\n",
    "\n",
    "        all.ix[is_male & chol3, c + '___gender_chol__scale'] = \\\n",
    "            (all.ix[is_male & chol3, c] - group_by.mean()[c].loc[1, 3]) / group_by.std()[c].loc[1, 3]\n",
    "\n",
    "\n",
    "        all.ix[is_female & chol1, c + '___gender_chol__scale'] = \\\n",
    "            (all.ix[is_female & chol1, c] - group_by.mean()[c].loc[0, 1]) / group_by.std()[c].loc[0, 1]\n",
    "\n",
    "        all.ix[is_female & chol2, c + '___gender_chol__scale'] = \\\n",
    "            (all.ix[is_female & chol2, c] - group_by.mean()[c].loc[0, 2]) / group_by.std()[c].loc[0, 2]\n",
    "\n",
    "        all.ix[is_female & chol3, c + '___gender_chol__scale'] = \\\n",
    "            (all.ix[is_female & chol3, c] - group_by.mean()[c].loc[0, 3]) / group_by.std()[c].loc[0, 3]\n",
    "            \n",
    "    if c != 'gluc_all':\n",
    "        group_by = all.groupby(['gender_male', 'gluc_all'])\n",
    "        \n",
    "        all.ix[is_male & gluc1, c + '___gender_gluc__scale'] = \\\n",
    "            (all.ix[is_male & gluc1, c] - group_by.mean()[c].loc[1, 1]) / group_by.std()[c].loc[1, 1]\n",
    "\n",
    "        all.ix[is_male & gluc2, c + '___gender_gluc__scale'] = \\\n",
    "            (all.ix[is_male & gluc2, c] - group_by.mean()[c].loc[1, 2]) / group_by.std()[c].loc[1, 2]\n",
    "\n",
    "        all.ix[is_male & gluc3, c + '___gender_gluc__scale'] = \\\n",
    "            (all.ix[is_male & gluc3, c] - group_by.mean()[c].loc[1, 3]) / group_by.std()[c].loc[1, 3]\n",
    "\n",
    "\n",
    "        all.ix[is_female & gluc1, c + '___gender_gluc__scale'] = \\\n",
    "            (all.ix[is_female & gluc1, c] - group_by.mean()[c].loc[0, 1]) / group_by.std()[c].loc[0, 1]\n",
    "\n",
    "        all.ix[is_female & gluc2, c + '___gender_gluc__scale'] = \\\n",
    "            (all.ix[is_female & gluc2, c] - group_by.mean()[c].loc[0, 2]) / group_by.std()[c].loc[0, 2]\n",
    "\n",
    "        all.ix[is_female & gluc3, c + '___gender_gluc__scale'] = \\\n",
    "            (all.ix[is_female & gluc3, c] - group_by.mean()[c].loc[0, 3]) / group_by.std()[c].loc[0, 3]\n",
    "            \n",
    "    if c != 'age':\n",
    "        group_by = all.groupby(['gender_male', 'age_cat'])\n",
    "        \n",
    "        all.ix[is_male & age1, c + '___gender_age__scale'] = \\\n",
    "            (all.ix[is_male & age1, c] - group_by.mean()[c].loc[1, 1]) / group_by.std()[c].loc[1, 1]\n",
    "        all.ix[is_male & age2, c + '___gender_age__scale'] = \\\n",
    "            (all.ix[is_male & age2, c] - group_by.mean()[c].loc[1, 2]) / group_by.std()[c].loc[1, 2]\n",
    "        all.ix[is_male & age3, c + '___gender_age__scale'] = \\\n",
    "            (all.ix[is_male & age3, c] - group_by.mean()[c].loc[1, 3]) / group_by.std()[c].loc[1, 3]\n",
    "        all.ix[is_male & age4, c + '___gender_age__scale'] = \\\n",
    "            (all.ix[is_male & age4, c] - group_by.mean()[c].loc[1, 4]) / group_by.std()[c].loc[1, 4]\n",
    "        all.ix[is_male & age5, c + '___gender_age__scale'] = \\\n",
    "            (all.ix[is_male & age5, c] - group_by.mean()[c].loc[1, 5]) / group_by.std()[c].loc[1, 5]\n",
    "        all.ix[is_male & age6, c + '___gender_age__scale'] = \\\n",
    "            (all.ix[is_male & age6, c] - group_by.mean()[c].loc[1, 6]) / group_by.std()[c].loc[1, 6]\n",
    "\n",
    "        all.ix[is_female & age1, c + '___gender_age__scale'] = \\\n",
    "            (all.ix[is_female & age1, c] - group_by.mean()[c].loc[0, 1]) / group_by.std()[c].loc[0, 1]\n",
    "        all.ix[is_female & age2, c + '___gender_age__scale'] = \\\n",
    "            (all.ix[is_female & age2, c] - group_by.mean()[c].loc[0, 2]) / group_by.std()[c].loc[0, 2]\n",
    "        all.ix[is_female & age3, c + '___gender_age__scale'] = \\\n",
    "            (all.ix[is_female & age3, c] - group_by.mean()[c].loc[0, 3]) / group_by.std()[c].loc[0, 3]\n",
    "        all.ix[is_female & age4, c + '___gender_age__scale'] = \\\n",
    "            (all.ix[is_female & age4, c] - group_by.mean()[c].loc[0, 4]) / group_by.std()[c].loc[0, 4]\n",
    "        all.ix[is_female & age5, c + '___gender_age__scale'] = \\\n",
    "            (all.ix[is_female & age5, c] - group_by.mean()[c].loc[0, 5]) / group_by.std()[c].loc[0, 5]\n",
    "        all.ix[is_female & age6, c + '___gender_age__scale'] = \\\n",
    "            (all.ix[is_female & age6, c] - group_by.mean()[c].loc[0, 6]) / group_by.std()[c].loc[0, 6]\n",
    "\n",
    "del all['age_cat']\n",
    "all.loc[ids_train].to_csv(config.QML_TRAIN_X_FILE_MASK.format(DATA_ID))\n",
    "all.loc[ids_test].to_csv(config.QML_TEST_X_FILE_MASK.format(DATA_ID))\n",
    "\n",
    "len(all.columns)"
   ]
  },
  {
   "cell_type": "code",
   "execution_count": 143,
   "metadata": {
    "collapsed": false,
    "deletable": true,
    "editable": true
   },
   "outputs": [],
   "source": [
    "# all.groupby(['gender_male', 'age_cat']).mean()"
   ]
  },
  {
   "cell_type": "code",
   "execution_count": 144,
   "metadata": {
    "collapsed": false,
    "deletable": true,
    "editable": true
   },
   "outputs": [],
   "source": [
    "# all.groupby(['gender_male', 'age_cat']).mean()['age'].loc[1, 2]"
   ]
  },
  {
   "cell_type": "code",
   "execution_count": 26,
   "metadata": {
    "collapsed": false,
    "deletable": true,
    "editable": true
   },
   "outputs": [
    {
     "data": {
      "text/plain": [
       "1"
      ]
     },
     "execution_count": 26,
     "metadata": {},
     "output_type": "execute_result"
    }
   ],
   "source": [
    "1"
   ]
  },
  {
   "cell_type": "code",
   "execution_count": 27,
   "metadata": {
    "collapsed": false,
    "deletable": true,
    "editable": true
   },
   "outputs": [
    {
     "data": {
      "text/plain": [
       "3"
      ]
     },
     "execution_count": 27,
     "metadata": {},
     "output_type": "execute_result"
    }
   ],
   "source": [
    "3"
   ]
  },
  {
   "cell_type": "code",
   "execution_count": 28,
   "metadata": {
    "collapsed": false,
    "deletable": true,
    "editable": true
   },
   "outputs": [
    {
     "data": {
      "text/plain": [
       "76"
      ]
     },
     "execution_count": 28,
     "metadata": {},
     "output_type": "execute_result"
    }
   ],
   "source": [
    "DATA_ID = 152\n",
    "\n",
    "\n",
    "train = pd.read_csv(config.QML_TRAIN_X_FILE_MASK.format(150), index_col='id')\n",
    "test = pd.read_csv(config.QML_TEST_X_FILE_MASK.format(150), index_col='id')\n",
    "all = pd.concat([train, test])\n",
    "\n",
    "train51 = pd.read_csv(config.QML_TRAIN_X_FILE_MASK.format(151), index_col='id')\n",
    "test51 = pd.read_csv(config.QML_TEST_X_FILE_MASK.format(151), index_col='id')\n",
    "all51 = pd.concat([train51, test51])\n",
    "\n",
    "all['div6__height__gluc_all__imt___gender__scale'] = all51['div6__height__gluc_all__imt___gender__scale']\n",
    "\n",
    "\n",
    "all.loc[ids_train].to_csv(config.QML_TRAIN_X_FILE_MASK.format(DATA_ID))\n",
    "all.loc[ids_test].to_csv(config.QML_TEST_X_FILE_MASK.format(DATA_ID))\n",
    "\n",
    "len(all.columns)"
   ]
  },
  {
   "cell_type": "code",
   "execution_count": null,
   "metadata": {
    "collapsed": true,
    "deletable": true,
    "editable": true
   },
   "outputs": [],
   "source": []
  },
  {
   "cell_type": "code",
   "execution_count": 29,
   "metadata": {
    "collapsed": false,
    "deletable": true,
    "editable": true
   },
   "outputs": [
    {
     "data": {
      "text/plain": [
       "51"
      ]
     },
     "execution_count": 29,
     "metadata": {},
     "output_type": "execute_result"
    }
   ],
   "source": [
    "DATA_ID = 153\n",
    "\n",
    "\n",
    "train = pd.read_csv(config.QML_TRAIN_X_FILE_MASK.format(152), index_col='id')\n",
    "test = pd.read_csv(config.QML_TEST_X_FILE_MASK.format(152), index_col='id')\n",
    "all = pd.concat([train, test])\n",
    "\n",
    "for i in ['k15_0',\n",
    " 'k15_1',\n",
    " 'k15_2',\n",
    " 'k15_3',\n",
    " 'k15_4',\n",
    " 'k15_5',\n",
    " 'k15_6',\n",
    " 'k15_7',\n",
    " 'k15_8',\n",
    " 'k15_9',\n",
    " 'k15_10',\n",
    " 'k15_11',\n",
    " 'k15_12',\n",
    " 'k15_13',\n",
    " 'k15_14',\n",
    " 'k7_0',\n",
    " 'k7_1',\n",
    " 'k7_2',\n",
    " 'k7_3',\n",
    " 'k7_4',\n",
    " 'k7_5',\n",
    " 'k7_6',\n",
    " 'k3_0',\n",
    " 'k3_1',\n",
    " 'k3_2']:\n",
    "    del all[i]\n",
    "\n",
    "\n",
    "\n",
    "all.loc[ids_train].to_csv(config.QML_TRAIN_X_FILE_MASK.format(DATA_ID))\n",
    "all.loc[ids_test].to_csv(config.QML_TEST_X_FILE_MASK.format(DATA_ID))\n",
    "\n",
    "len(all.columns)"
   ]
  },
  {
   "cell_type": "code",
   "execution_count": null,
   "metadata": {
    "collapsed": true,
    "deletable": true,
    "editable": true
   },
   "outputs": [],
   "source": []
  },
  {
   "cell_type": "code",
   "execution_count": null,
   "metadata": {
    "collapsed": false,
    "deletable": true,
    "editable": true
   },
   "outputs": [],
   "source": []
  },
  {
   "cell_type": "code",
   "execution_count": 30,
   "metadata": {
    "collapsed": false,
    "deletable": true,
    "editable": true
   },
   "outputs": [
    {
     "data": {
      "text/plain": [
       "76"
      ]
     },
     "execution_count": 30,
     "metadata": {},
     "output_type": "execute_result"
    }
   ],
   "source": [
    "DATA_ID = 156\n",
    "\n",
    "\n",
    "train = pd.read_csv(config.QML_TRAIN_X_FILE_MASK.format(153), index_col='id')\n",
    "test = pd.read_csv(config.QML_TEST_X_FILE_MASK.format(153), index_col='id')\n",
    "all = pd.concat([train, test])\n",
    "\n",
    "all2=all[['age', 'height', 'weight', 'ap_hi', 'ap_lo', \n",
    "       'gender_male', 'height_low', 'weight_low', 'cholesterol_all',\n",
    "       'gluc_all', 'ap_error', 'ap_error_swap', 'imt', 'imt_class_all',\n",
    "       ]]\n",
    "\n",
    "from sklearn.cluster import KMeans\n",
    "\n",
    "k15 = KMeans(n_clusters=15, precompute_distances = True, n_jobs=-1)\n",
    "k15.fit(all2)\n",
    "k7 = KMeans(n_clusters=7, precompute_distances = True, n_jobs=-1)\n",
    "k7.fit(all2)\n",
    "k3 = KMeans(n_clusters=3, precompute_distances = True, n_jobs=-1)\n",
    "k3.fit(all2)\n",
    "\n",
    "\n",
    "k15_res = k15.predict(all2)[None].T\n",
    "k7_res =  k7.predict(all2)[None].T\n",
    "k3_res =  k3.predict(all2)[None].T\n",
    "\n",
    "all['k15'] = k15_res\n",
    "all['k7'] = k7_res\n",
    "all['k3'] = k3_res\n",
    "\n",
    "all = pd.get_dummies(all, columns=[\"k15\", \"k7\", \"k3\",])#\n",
    "\n",
    "all.loc[ids_train].to_csv(config.QML_TRAIN_X_FILE_MASK.format(DATA_ID))\n",
    "all.loc[ids_test].to_csv(config.QML_TEST_X_FILE_MASK.format(DATA_ID))\n",
    "\n",
    "len(all.columns)"
   ]
  },
  {
   "cell_type": "code",
   "execution_count": null,
   "metadata": {
    "collapsed": false,
    "deletable": true,
    "editable": true
   },
   "outputs": [],
   "source": []
  },
  {
   "cell_type": "code",
   "execution_count": null,
   "metadata": {
    "collapsed": false,
    "deletable": true,
    "editable": true
   },
   "outputs": [],
   "source": []
  },
  {
   "cell_type": "code",
   "execution_count": null,
   "metadata": {
    "collapsed": false,
    "deletable": true,
    "editable": true
   },
   "outputs": [],
   "source": []
  },
  {
   "cell_type": "code",
   "execution_count": null,
   "metadata": {
    "collapsed": true,
    "deletable": true,
    "editable": true
   },
   "outputs": [],
   "source": []
  },
  {
   "cell_type": "code",
   "execution_count": null,
   "metadata": {
    "collapsed": true,
    "deletable": true,
    "editable": true
   },
   "outputs": [],
   "source": []
  },
  {
   "cell_type": "code",
   "execution_count": null,
   "metadata": {
    "collapsed": true,
    "deletable": true,
    "editable": true
   },
   "outputs": [],
   "source": []
  },
  {
   "cell_type": "code",
   "execution_count": null,
   "metadata": {
    "collapsed": true,
    "deletable": true,
    "editable": true
   },
   "outputs": [],
   "source": []
  }
 ],
 "metadata": {
  "kernelspec": {
   "display_name": "Python 3",
   "language": "python",
   "name": "python3"
  },
  "language_info": {
   "codemirror_mode": {
    "name": "ipython",
    "version": 3
   },
   "file_extension": ".py",
   "mimetype": "text/x-python",
   "name": "python",
   "nbconvert_exporter": "python",
   "pygments_lexer": "ipython3",
   "version": "3.6.0"
  }
 },
 "nbformat": 4,
 "nbformat_minor": 0
}
