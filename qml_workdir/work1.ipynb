{
 "cells": [
  {
   "cell_type": "code",
   "execution_count": 1,
   "metadata": {
    "collapsed": true,
    "deletable": true,
    "editable": true
   },
   "outputs": [],
   "source": [
    "import pandas as pd\n",
    "import numpy as np\n",
    "\n",
    "import matplotlib.pyplot as plt\n",
    "import seaborn as sns\n",
    "color = sns.color_palette()\n",
    "\n",
    "from datetime import datetime\n",
    "\n",
    "%matplotlib inline"
   ]
  },
  {
   "cell_type": "code",
   "execution_count": 2,
   "metadata": {
    "collapsed": true,
    "deletable": true,
    "editable": true
   },
   "outputs": [],
   "source": [
    "ROOT_DIR = '../'\n",
    "\n",
    "\n",
    "\n",
    "QML_DATA_DIR = ROOT_DIR + 'qml_workdir/data/'\n",
    "\n",
    "QML_TRAIN_X_FILE_MASK = ROOT_DIR + 'qml_workdir/data/v{0:0=4d}_train_x.csv'\n",
    "QML_TEST_X_FILE_MASK  = ROOT_DIR + 'qml_workdir/data/v{0:0=4d}_test_x.csv'\n",
    "QML_TRAIN_Y_FILE_MASK = ROOT_DIR + 'qml_workdir/data/train_y.csv'"
   ]
  },
  {
   "cell_type": "code",
   "execution_count": null,
   "metadata": {
    "collapsed": true,
    "deletable": true,
    "editable": true
   },
   "outputs": [],
   "source": []
  },
  {
   "cell_type": "code",
   "execution_count": 9,
   "metadata": {
    "collapsed": false,
    "deletable": true,
    "editable": true
   },
   "outputs": [
    {
     "data": {
      "text/plain": [
       "(124011, 13)"
      ]
     },
     "execution_count": 9,
     "metadata": {},
     "output_type": "execute_result"
    }
   ],
   "source": [
    "train = pd.read_json(QML_DATA_DIR + \"raw/train.json\")\n",
    "train.set_index('listing_id', inplace=True)\n",
    "test = pd.read_json(QML_DATA_DIR + \"raw/test.json\")\n",
    "test.set_index('listing_id', inplace=True)\n",
    "\n",
    "train_y = pd.DataFrame(train['interest_level'])\n",
    "train.drop(['interest_level'], axis=1, inplace=True)\n",
    "all = pd.concat([train, test])\n",
    "\n",
    "\n",
    "all.shape"
   ]
  },
  {
   "cell_type": "code",
   "execution_count": 10,
   "metadata": {
    "collapsed": false
   },
   "outputs": [],
   "source": [
    "from sklearn.feature_extraction.text import TfidfVectorizer, CountVectorizer\n",
    "\n",
    "all['features'] = all[\"features\"].apply(lambda x: \" \".join([\"_\".join(i.split(\" \")) for i in x]))\n",
    "\n",
    "tfidf = CountVectorizer(stop_words='english', max_features=200)\n",
    "tr_sparse = tfidf.fit_transform(all[\"features\"])\n",
    "train_X = sparse.hstack([train_df[features_to_use], tr_sparse]).tocsr()\n"
   ]
  },
  {
   "cell_type": "code",
   "execution_count": 13,
   "metadata": {
    "collapsed": false
   },
   "outputs": [
    {
     "data": {
      "text/plain": [
       "<1x200 sparse matrix of type '<class 'numpy.int64'>'\n",
       "\twith 0 stored elements in Compressed Sparse Row format>"
      ]
     },
     "execution_count": 13,
     "metadata": {},
     "output_type": "execute_result"
    }
   ],
   "source": [
    "train_X = sparse.hstack([train_df[features_to_use], tr_sparse]).tocsr()"
   ]
  },
  {
   "cell_type": "code",
   "execution_count": 53,
   "metadata": {
    "collapsed": false,
    "deletable": true,
    "editable": true
   },
   "outputs": [
    {
     "data": {
      "text/plain": [
       "Index(['bathrooms', 'bedrooms', 'building_id', 'created', 'description',\n",
       "       'display_address', 'features', 'interest_level', 'latitude',\n",
       "       'longitude', 'manager_id', 'photos', 'price', 'street_address'],\n",
       "      dtype='object')"
      ]
     },
     "execution_count": 53,
     "metadata": {},
     "output_type": "execute_result"
    }
   ],
   "source": [
    "all.columns"
   ]
  },
  {
   "cell_type": "code",
   "execution_count": 49,
   "metadata": {
    "collapsed": true,
    "deletable": true,
    "editable": true
   },
   "outputs": [],
   "source": [
    "train.drop(train.columns, axis=1).to_csv(QML_DATA_DIR + 'ids_train.csv')\n",
    "test.drop(test.columns, axis=1).to_csv(QML_DATA_DIR + 'ids_test.csv')"
   ]
  },
  {
   "cell_type": "code",
   "execution_count": 104,
   "metadata": {
    "collapsed": true,
    "deletable": true,
    "editable": true
   },
   "outputs": [],
   "source": [
    "#pd.get_dummies(train_y, prefix='', prefix_sep='')[['high', 'medium', 'low']].to_csv(QML_TRAIN_Y_FILE_MASK)\n",
    "train_y.replace({'high':0, 'medium':1, 'low':2}).to_csv(QML_TRAIN_Y_FILE_MASK)"
   ]
  },
  {
   "cell_type": "code",
   "execution_count": 79,
   "metadata": {
    "collapsed": true,
    "deletable": true,
    "editable": true
   },
   "outputs": [],
   "source": [
    "res = all[['bathrooms', 'bedrooms', 'latitude', 'longitude', 'price']]"
   ]
  },
  {
   "cell_type": "code",
   "execution_count": 99,
   "metadata": {
    "collapsed": false,
    "deletable": true,
    "editable": true
   },
   "outputs": [
    {
     "data": {
      "text/plain": [
       "(124011, 5)"
      ]
     },
     "execution_count": 99,
     "metadata": {},
     "output_type": "execute_result"
    }
   ],
   "source": []
  },
  {
   "cell_type": "code",
   "execution_count": 83,
   "metadata": {
    "collapsed": true,
    "deletable": true,
    "editable": true
   },
   "outputs": [],
   "source": [
    "ids_train = pd.read_csv(QML_DATA_DIR + 'ids_train.csv', index_col='listing_id').index\n",
    "ids_test = pd.read_csv(QML_DATA_DIR + 'ids_test.csv', index_col='listing_id').index\n",
    "\n",
    "DATA_ID = 1\n",
    "\n",
    "res.loc[ids_train].to_csv(QML_TRAIN_X_FILE_MASK.format(DATA_ID))\n",
    "res.loc[ids_test].to_csv(QML_TEST_X_FILE_MASK.format(DATA_ID))"
   ]
  },
  {
   "cell_type": "code",
   "execution_count": 107,
   "metadata": {
    "collapsed": true,
    "deletable": true,
    "editable": true
   },
   "outputs": [],
   "source": []
  },
  {
   "cell_type": "code",
   "execution_count": 110,
   "metadata": {
    "collapsed": true,
    "deletable": true,
    "editable": true
   },
   "outputs": [
    {
     "name": "stderr",
     "output_type": "stream",
     "text": [
      "D:\\Python36\\lib\\site-packages\\ipykernel\\__main__.py:2: SettingWithCopyWarning: \n",
      "A value is trying to be set on a copy of a slice from a DataFrame.\n",
      "Try using .loc[row_indexer,col_indexer] = value instead\n",
      "\n",
      "See the caveats in the documentation: http://pandas.pydata.org/pandas-docs/stable/indexing.html#indexing-view-versus-copy\n",
      "  from ipykernel import kernelapp as app\n",
      "D:\\Python36\\lib\\site-packages\\ipykernel\\__main__.py:3: SettingWithCopyWarning: \n",
      "A value is trying to be set on a copy of a slice from a DataFrame.\n",
      "Try using .loc[row_indexer,col_indexer] = value instead\n",
      "\n",
      "See the caveats in the documentation: http://pandas.pydata.org/pandas-docs/stable/indexing.html#indexing-view-versus-copy\n",
      "  app.launch_new_instance()\n",
      "D:\\Python36\\lib\\site-packages\\ipykernel\\__main__.py:4: SettingWithCopyWarning: \n",
      "A value is trying to be set on a copy of a slice from a DataFrame.\n",
      "Try using .loc[row_indexer,col_indexer] = value instead\n",
      "\n",
      "See the caveats in the documentation: http://pandas.pydata.org/pandas-docs/stable/indexing.html#indexing-view-versus-copy\n",
      "D:\\Python36\\lib\\site-packages\\ipykernel\\__main__.py:6: SettingWithCopyWarning: \n",
      "A value is trying to be set on a copy of a slice from a DataFrame.\n",
      "Try using .loc[row_indexer,col_indexer] = value instead\n",
      "\n",
      "See the caveats in the documentation: http://pandas.pydata.org/pandas-docs/stable/indexing.html#indexing-view-versus-copy\n",
      "D:\\Python36\\lib\\site-packages\\ipykernel\\__main__.py:7: SettingWithCopyWarning: \n",
      "A value is trying to be set on a copy of a slice from a DataFrame.\n",
      "Try using .loc[row_indexer,col_indexer] = value instead\n",
      "\n",
      "See the caveats in the documentation: http://pandas.pydata.org/pandas-docs/stable/indexing.html#indexing-view-versus-copy\n",
      "D:\\Python36\\lib\\site-packages\\ipykernel\\__main__.py:8: SettingWithCopyWarning: \n",
      "A value is trying to be set on a copy of a slice from a DataFrame.\n",
      "Try using .loc[row_indexer,col_indexer] = value instead\n",
      "\n",
      "See the caveats in the documentation: http://pandas.pydata.org/pandas-docs/stable/indexing.html#indexing-view-versus-copy\n",
      "D:\\Python36\\lib\\site-packages\\ipykernel\\__main__.py:9: DeprecationWarning: parsing timezone aware datetimes is deprecated; this will raise an error in the future\n",
      "D:\\Python36\\lib\\site-packages\\ipykernel\\__main__.py:9: SettingWithCopyWarning: \n",
      "A value is trying to be set on a copy of a slice from a DataFrame.\n",
      "Try using .loc[row_indexer,col_indexer] = value instead\n",
      "\n",
      "See the caveats in the documentation: http://pandas.pydata.org/pandas-docs/stable/indexing.html#indexing-view-versus-copy\n"
     ]
    }
   ],
   "source": [
    "res = all[['bathrooms', 'bedrooms', 'latitude', 'longitude', 'price']]\n",
    "res[\"num_photos\"] = all[\"photos\"].apply(len)\n",
    "res[\"num_features\"] = all[\"features\"].apply(len)\n",
    "res[\"num_description_words\"] = all[\"description\"].apply(lambda x: len(x.split(\" \")))\n",
    "all[\"created\"] = pd.to_datetime(all[\"created\"])\n",
    "res[\"created_year\"] = all[\"created\"].dt.year\n",
    "res[\"created_month\"] = all[\"created\"].dt.month\n",
    "res[\"created_day\"] = all[\"created\"].dt.day\n",
    "res[\"created_ts\"] = (all[\"created\"] - np.datetime64('1970-01-01T00:00:00Z')) / np.timedelta64(1, 's')"
   ]
  },
  {
   "cell_type": "code",
   "execution_count": 111,
   "metadata": {
    "collapsed": true,
    "deletable": true,
    "editable": true
   },
   "outputs": [],
   "source": [
    "ids_train = pd.read_csv(QML_DATA_DIR + 'ids_train.csv', index_col='listing_id').index\n",
    "ids_test = pd.read_csv(QML_DATA_DIR + 'ids_test.csv', index_col='listing_id').index\n",
    "\n",
    "DATA_ID = 2\n",
    "\n",
    "res.loc[ids_train].to_csv(QML_TRAIN_X_FILE_MASK.format(DATA_ID))\n",
    "res.loc[ids_test].to_csv(QML_TEST_X_FILE_MASK.format(DATA_ID))"
   ]
  },
  {
   "cell_type": "code",
   "execution_count": 40,
   "metadata": {
    "collapsed": true,
    "deletable": true,
    "editable": true
   },
   "outputs": [],
   "source": []
  },
  {
   "cell_type": "code",
   "execution_count": 113,
   "metadata": {
    "collapsed": false,
    "deletable": true,
    "editable": true
   },
   "outputs": [],
   "source": [
    "DATA_ID = 3\n",
    "ids_train = pd.read_csv(QML_DATA_DIR + 'ids_train.csv', index_col='listing_id').index\n",
    "ids_test = pd.read_csv(QML_DATA_DIR + 'ids_test.csv', index_col='listing_id').index\n",
    "train = pd.read_csv(QML_TRAIN_X_FILE_MASK.format(2), index_col='listing_id')\n",
    "test = pd.read_csv(QML_TEST_X_FILE_MASK.format(2), index_col='listing_id')\n",
    "\n",
    "all = pd.concat([train, test])\n",
    "\n",
    "all['coord_1'] = all['latitude'] + all['longitude']\n",
    "all['coord_2'] = all['latitude'] - all['longitude']\n",
    "all['coord_3'] = all['latitude'] * all['longitude']\n",
    "\n",
    "\n",
    "res.loc[ids_train].to_csv(QML_TRAIN_X_FILE_MASK.format(DATA_ID))\n",
    "res.loc[ids_test].to_csv(QML_TEST_X_FILE_MASK.format(DATA_ID))"
   ]
  },
  {
   "cell_type": "code",
   "execution_count": null,
   "metadata": {
    "collapsed": true,
    "deletable": true,
    "editable": true
   },
   "outputs": [],
   "source": []
  },
  {
   "cell_type": "code",
   "execution_count": 117,
   "metadata": {
    "collapsed": false,
    "deletable": true,
    "editable": true
   },
   "outputs": [
    {
     "name": "stderr",
     "output_type": "stream",
     "text": [
      "D:\\Python36\\lib\\site-packages\\ipykernel\\__main__.py:11: DeprecationWarning: parsing timezone aware datetimes is deprecated; this will raise an error in the future\n"
     ]
    }
   ],
   "source": [
    "DATA_ID = 4\n",
    "ids_train = pd.read_csv(QML_DATA_DIR + 'ids_train.csv', index_col='listing_id').index\n",
    "ids_test = pd.read_csv(QML_DATA_DIR + 'ids_test.csv', index_col='listing_id').index\n",
    "train = pd.read_csv(QML_TRAIN_X_FILE_MASK.format(3), index_col='listing_id')\n",
    "test = pd.read_csv(QML_TEST_X_FILE_MASK.format(3), index_col='listing_id')\n",
    "\n",
    "all = pd.concat([train, test])\n",
    "\n",
    "#train['created'] = pd.to_datetime(train['created'])\n",
    "\n",
    "dt = all['created_ts'] * np.timedelta64(1, 's') + np.datetime64('1970-01-01T00:00:00Z')\n",
    "\n",
    "all['created_hour'] = dt.dt.hour\n",
    "all['created_weekday'] = dt.dt.weekday\n",
    "all['created_week'] = dt.dt.week\n",
    "all['created_quarter'] = dt.dt.quarter\n",
    "all['created_weekend'] = ((all['created_weekday'] == 5) & (all['created_weekday'] == 6))\n",
    "all['created_wd'] = ((all['created_weekday'] != 5) & (all['created_weekday'] != 6))\n",
    "\n",
    "\n",
    "res.loc[ids_train].to_csv(QML_TRAIN_X_FILE_MASK.format(DATA_ID))\n",
    "res.loc[ids_test].to_csv(QML_TEST_X_FILE_MASK.format(DATA_ID))"
   ]
  },
  {
   "cell_type": "code",
   "execution_count": null,
   "metadata": {
    "collapsed": true,
    "deletable": true,
    "editable": true
   },
   "outputs": [],
   "source": []
  },
  {
   "cell_type": "code",
   "execution_count": 21,
   "metadata": {
    "collapsed": true,
    "deletable": true,
    "editable": true
   },
   "outputs": [],
   "source": [
    "DATA_ID = 5\n",
    "ids_train = pd.read_csv(QML_DATA_DIR + 'ids_train.csv', index_col='listing_id').index\n",
    "ids_test = pd.read_csv(QML_DATA_DIR + 'ids_test.csv', index_col='listing_id').index\n",
    "train = pd.read_csv(QML_TRAIN_X_FILE_MASK.format(4), index_col='listing_id')\n",
    "test = pd.read_csv(QML_TEST_X_FILE_MASK.format(4), index_col='listing_id')\n",
    "all = pd.concat([train, test])\n",
    "\n",
    "\n",
    "raw1 = pd.read_json(QML_DATA_DIR + \"raw/train.json\")\n",
    "raw1.set_index('listing_id', inplace=True)\n",
    "raw2 = pd.read_json(QML_DATA_DIR + \"raw/test.json\")\n",
    "raw2.set_index('listing_id', inplace=True)\n",
    "raw = pd.concat([raw1, raw2])\n",
    "\n",
    "repl_dict = raw1.groupby('manager_id')['manager_id'].count().sort_values(ascending=False).to_dict()\n",
    "for i in raw['manager_id']:\n",
    "    if i not in repl_dict:\n",
    "        repl_dict[i] = 0\n",
    "        \n",
    "all['man_objects_count'] = raw['manager_id'].replace(repl_dict)\n",
    "\n",
    "all.loc[ids_train].to_csv(QML_TRAIN_X_FILE_MASK.format(DATA_ID))\n",
    "all.loc[ids_test].to_csv(QML_TEST_X_FILE_MASK.format(DATA_ID))"
   ]
  },
  {
   "cell_type": "code",
   "execution_count": 15,
   "metadata": {
    "collapsed": true,
    "deletable": true,
    "editable": true
   },
   "outputs": [],
   "source": []
  },
  {
   "cell_type": "code",
   "execution_count": 22,
   "metadata": {
    "collapsed": true,
    "deletable": true,
    "editable": true
   },
   "outputs": [],
   "source": [
    "DATA_ID = 6\n",
    "ids_train = pd.read_csv(QML_DATA_DIR + 'ids_train.csv', index_col='listing_id').index\n",
    "ids_test = pd.read_csv(QML_DATA_DIR + 'ids_test.csv', index_col='listing_id').index\n",
    "train = pd.read_csv(QML_TRAIN_X_FILE_MASK.format(5), index_col='listing_id')\n",
    "test = pd.read_csv(QML_TEST_X_FILE_MASK.format(5), index_col='listing_id')\n",
    "all = pd.concat([train, test])\n",
    "\n",
    "\n",
    "raw1 = pd.read_json(QML_DATA_DIR + \"raw/train.json\")\n",
    "raw1.set_index('listing_id', inplace=True)\n",
    "raw2 = pd.read_json(QML_DATA_DIR + \"raw/test.json\")\n",
    "raw2.set_index('listing_id', inplace=True)\n",
    "raw = pd.concat([raw1, raw2])\n",
    "\n",
    "repl_dict1 = raw1[raw1['interest_level']=='high'].groupby('manager_id')['manager_id'].count().sort_values(ascending=False).to_dict()\n",
    "repl_dict2 = raw1[raw1['interest_level']=='medium'].groupby('manager_id')['manager_id'].count().sort_values(ascending=False).to_dict()\n",
    "repl_dict3 = raw1[raw1['interest_level']=='low'].groupby('manager_id')['manager_id'].count().sort_values(ascending=False).to_dict()\n",
    "\n",
    "for i in raw['manager_id']:\n",
    "    if i not in repl_dict1:\n",
    "        repl_dict1[i] = 0\n",
    "    if i not in repl_dict2:\n",
    "        repl_dict2[i] = 0\n",
    "    if i not in repl_dict3:\n",
    "        repl_dict3[i] = 0\n",
    "\n",
    "all['man_objects_high'] = raw['manager_id'].replace(repl_dict1)\n",
    "all['man_objects_medium'] = raw['manager_id'].replace(repl_dict2)\n",
    "all['man_objects_low'] = raw['manager_id'].replace(repl_dict3)\n",
    "\n",
    "all['man_objects_high_to_count'] = all['man_objects_high'] / (all['man_objects_count'] +1)\n",
    "all['man_objects_medium_to_count'] = all['man_objects_medium'] / (all['man_objects_count'] +1)\n",
    "all['man_objects_low_to_count'] = all['man_objects_low'] / (all['man_objects_count'] +1)\n",
    "\n",
    "\n",
    "all.loc[ids_train].to_csv(QML_TRAIN_X_FILE_MASK.format(DATA_ID))\n",
    "all.loc[ids_test].to_csv(QML_TEST_X_FILE_MASK.format(DATA_ID))"
   ]
  },
  {
   "cell_type": "code",
   "execution_count": 22,
   "metadata": {
    "collapsed": false,
    "deletable": true,
    "editable": true
   },
   "outputs": [],
   "source": []
  },
  {
   "cell_type": "code",
   "execution_count": 22,
   "metadata": {
    "collapsed": true,
    "deletable": true,
    "editable": true
   },
   "outputs": [],
   "source": [
    "DATA_ID = 7\n",
    "ids_train = pd.read_csv(QML_DATA_DIR + 'ids_train.csv', index_col='listing_id').index\n",
    "ids_test = pd.read_csv(QML_DATA_DIR + 'ids_test.csv', index_col='listing_id').index\n",
    "train = pd.read_csv(QML_TRAIN_X_FILE_MASK.format(6), index_col='listing_id')\n",
    "test = pd.read_csv(QML_TEST_X_FILE_MASK.format(6), index_col='listing_id')\n",
    "all = pd.concat([train, test])\n",
    "\n",
    "all[\"pricePerBed\"] = all['price'] / all['bedrooms']\n",
    "all[\"pricePerBath\"] = all['price'] / all['bathrooms']\n",
    "all[\"pricePerRoom\"] = all['price'] / (all['bedrooms'] + all['bathrooms'])\n",
    "all[\"bedPerBath\"] = all['bedrooms'] / all['bathrooms']\n",
    "all[\"bedBathDiff\"] = all['bedrooms'] - all['bathrooms']\n",
    "all[\"bedBathSum\"] = all[\"bedrooms\"] + all['bathrooms']\n",
    "all[\"bedsPerc\"] = all[\"bedrooms\"] / (all['bedrooms'] + all['bathrooms'])\n",
    "\n",
    "all.loc[ids_train].to_csv(QML_TRAIN_X_FILE_MASK.format(DATA_ID))\n",
    "all.loc[ids_test].to_csv(QML_TEST_X_FILE_MASK.format(DATA_ID))"
   ]
  },
  {
   "cell_type": "code",
   "execution_count": 22,
   "metadata": {
    "collapsed": false,
    "deletable": true,
    "editable": true
   },
   "outputs": [],
   "source": []
  },
  {
   "cell_type": "code",
   "execution_count": 27,
   "metadata": {
    "collapsed": false,
    "deletable": true,
    "editable": true
   },
   "outputs": [
    {
     "name": "stderr",
     "output_type": "stream",
     "text": [
      "D:\\Python36\\lib\\site-packages\\ipykernel\\__main__.py:12: DeprecationWarning: parsing timezone aware datetimes is deprecated; this will raise an error in the future\n"
     ]
    }
   ],
   "source": [
    "DATA_ID = 8\n",
    "ids_train = pd.read_csv(QML_DATA_DIR + 'ids_train.csv', index_col='listing_id').index\n",
    "ids_test = pd.read_csv(QML_DATA_DIR + 'ids_test.csv', index_col='listing_id').index\n",
    "train = pd.read_csv(QML_TRAIN_X_FILE_MASK.format(7), index_col='listing_id')\n",
    "test = pd.read_csv(QML_TEST_X_FILE_MASK.format(7), index_col='listing_id')\n",
    "all = pd.concat([train, test])\n",
    "\n",
    "raw1 = pd.read_json(QML_DATA_DIR + \"raw/train.json\")\n",
    "raw1.set_index('listing_id', inplace=True)\n",
    "raw2 = pd.read_json(QML_DATA_DIR + \"raw/test.json\")\n",
    "raw2.set_index('listing_id', inplace=True)\n",
    "raw = pd.concat([raw1, raw2])\n",
    "\n",
    "repl_dict = raw1.groupby('manager_id')['manager_id'].count().sort_values(ascending=False).to_dict()\n",
    "for i in raw['manager_id']:\n",
    "    if i not in repl_dict:\n",
    "        repl_dict[i] = 0\n",
    "        \n",
    "all['man_objects_count'] = raw['manager_id'].replace(repl_dict)\n",
    "\n",
    "\n",
    "\n",
    "\n",
    "all.loc[ids_train].to_csv(QML_TRAIN_X_FILE_MASK.format(DATA_ID))\n",
    "all.loc[ids_test].to_csv(QML_TEST_X_FILE_MASK.format(DATA_ID))"
   ]
  },
  {
   "cell_type": "code",
   "execution_count": 28,
   "metadata": {
    "collapsed": true,
    "deletable": true,
    "editable": true
   },
   "outputs": [],
   "source": [
    "DATA_ID = 9\n",
    "ids_train = pd.read_csv(QML_DATA_DIR + 'ids_train.csv', index_col='listing_id').index\n",
    "ids_test = pd.read_csv(QML_DATA_DIR + 'ids_test.csv', index_col='listing_id').index\n",
    "train = pd.read_csv(QML_TRAIN_X_FILE_MASK.format(8), index_col='listing_id')\n",
    "test = pd.read_csv(QML_TEST_X_FILE_MASK.format(8), index_col='listing_id')\n",
    "all = pd.concat([train, test])\n",
    "\n",
    "\n",
    "\n",
    "raw1 = pd.read_json(QML_DATA_DIR + \"raw/train.json\")\n",
    "raw1.set_index('listing_id', inplace=True)\n",
    "raw2 = pd.read_json(QML_DATA_DIR + \"raw/test.json\")\n",
    "raw2.set_index('listing_id', inplace=True)\n",
    "raw = pd.concat([raw1, raw2])\n",
    "\n",
    "repl_dict = raw1.groupby('manager_id')['manager_id'].count().sort_values(ascending=False).to_dict()\n",
    "repl_dict_mean = np.mean([x for x in repl_dict.values()])\n",
    "for i in raw['manager_id']:\n",
    "    if i not in repl_dict:\n",
    "        repl_dict[i] = repl_dict_mean\n",
    "        \n",
    "all['man_objects_count'] = raw['manager_id'].replace(repl_dict)\n",
    "\n",
    "\n",
    "repl_dict1 = raw1[raw1['interest_level']=='high'].groupby('manager_id')['manager_id'].count().sort_values(ascending=False).to_dict()\n",
    "repl_dict2 = raw1[raw1['interest_level']=='medium'].groupby('manager_id')['manager_id'].count().sort_values(ascending=False).to_dict()\n",
    "repl_dict3 = raw1[raw1['interest_level']=='low'].groupby('manager_id')['manager_id'].count().sort_values(ascending=False).to_dict()\n",
    "\n",
    "repl_dict_mean1 = np.mean([x for x in repl_dict1.values()])\n",
    "repl_dict_mean2 = np.mean([x for x in repl_dict2.values()])\n",
    "repl_dict_mean3 = np.mean([x for x in repl_dict3.values()])\n",
    "\n",
    "for i in raw['manager_id']:\n",
    "    if i not in repl_dict1:\n",
    "        repl_dict1[i] = repl_dict_mean1\n",
    "    if i not in repl_dict2:\n",
    "        repl_dict2[i] = repl_dict_mean2\n",
    "    if i not in repl_dict3:\n",
    "        repl_dict3[i] = repl_dict_mean3\n",
    "\n",
    "all['man_objects_high'] = raw['manager_id'].replace(repl_dict1)\n",
    "all['man_objects_medium'] = raw['manager_id'].replace(repl_dict2)\n",
    "all['man_objects_low'] = raw['manager_id'].replace(repl_dict3)\n",
    "\n",
    "all['man_objects_high_to_count'] = all['man_objects_high'] / (all['man_objects_count'] +1)\n",
    "all['man_objects_medium_to_count'] = all['man_objects_medium'] / (all['man_objects_count'] +1)\n",
    "all['man_objects_low_to_count'] = all['man_objects_low'] / (all['man_objects_count'] +1)\n",
    "\n",
    "\n",
    "\n",
    "\n",
    "all.loc[ids_train].to_csv(QML_TRAIN_X_FILE_MASK.format(DATA_ID))\n",
    "all.loc[ids_test].to_csv(QML_TEST_X_FILE_MASK.format(DATA_ID))"
   ]
  },
  {
   "cell_type": "code",
   "execution_count": null,
   "metadata": {
    "collapsed": true,
    "deletable": true,
    "editable": true
   },
   "outputs": [],
   "source": []
  },
  {
   "cell_type": "code",
   "execution_count": 5,
   "metadata": {
    "collapsed": true,
    "deletable": true,
    "editable": true
   },
   "outputs": [],
   "source": [
    "DATA_ID = 10\n",
    "ids_train = pd.read_csv(QML_DATA_DIR + 'ids_train.csv', index_col='listing_id').index\n",
    "ids_test = pd.read_csv(QML_DATA_DIR + 'ids_test.csv', index_col='listing_id').index\n",
    "train = pd.read_csv(QML_TRAIN_X_FILE_MASK.format(8), index_col='listing_id')\n",
    "test = pd.read_csv(QML_TEST_X_FILE_MASK.format(8), index_col='listing_id')\n",
    "all = pd.concat([train, test])\n",
    "\n",
    "\n",
    "\n",
    "raw1 = pd.read_json(QML_DATA_DIR + \"raw/train.json\")\n",
    "raw1.set_index('listing_id', inplace=True)\n",
    "raw2 = pd.read_json(QML_DATA_DIR + \"raw/test.json\")\n",
    "raw2.set_index('listing_id', inplace=True)\n",
    "raw = pd.concat([raw1, raw2])\n",
    "\n",
    "repl_dict = raw1.groupby('building_id')['building_id'].count().sort_values(ascending=False).to_dict()\n",
    "for i in raw['building_id']:\n",
    "    if i not in repl_dict:\n",
    "        repl_dict[i] = 0\n",
    "        \n",
    "all['build_objects_count'] = raw['building_id'].replace(repl_dict)\n",
    "\n",
    "\n",
    "repl_dict1 = raw1[raw1['interest_level']=='high'].groupby('building_id')['building_id'].count().sort_values(ascending=False).to_dict()\n",
    "repl_dict2 = raw1[raw1['interest_level']=='medium'].groupby('building_id')['building_id'].count().sort_values(ascending=False).to_dict()\n",
    "repl_dict3 = raw1[raw1['interest_level']=='low'].groupby('building_id')['building_id'].count().sort_values(ascending=False).to_dict()\n",
    "\n",
    "\n",
    "for i in raw['building_id']:\n",
    "    if i not in repl_dict1:\n",
    "        repl_dict1[i] = 0\n",
    "    if i not in repl_dict2:\n",
    "        repl_dict2[i] = 0\n",
    "    if i not in repl_dict3:\n",
    "        repl_dict3[i] = 0\n",
    "\n",
    "all['build_objects_high'] = raw['building_id'].replace(repl_dict1)\n",
    "all['build_objects_medium'] = raw['building_id'].replace(repl_dict2)\n",
    "all['build_objects_low'] = raw['building_id'].replace(repl_dict3)\n",
    "\n",
    "all['build_objects_high_to_count'] = all['build_objects_high'] / (all['build_objects_count'] +1)\n",
    "all['build_objects_medium_to_count'] = all['build_objects_medium'] / (all['build_objects_count'] +1)\n",
    "all['build_objects_low_to_count'] = all['build_objects_low'] / (all['build_objects_count'] +1)\n",
    "\n",
    "\n",
    "\n",
    "\n",
    "all.loc[ids_train].to_csv(QML_TRAIN_X_FILE_MASK.format(DATA_ID))\n",
    "all.loc[ids_test].to_csv(QML_TEST_X_FILE_MASK.format(DATA_ID))"
   ]
  },
  {
   "cell_type": "code",
   "execution_count": null,
   "metadata": {
    "collapsed": true,
    "deletable": true,
    "editable": true
   },
   "outputs": [],
   "source": []
  },
  {
   "cell_type": "code",
   "execution_count": 13,
   "metadata": {
    "collapsed": true,
    "deletable": true,
    "editable": true
   },
   "outputs": [],
   "source": [
    "DATA_ID = 11\n",
    "ids_train = pd.read_csv(QML_DATA_DIR + 'ids_train.csv', index_col='listing_id').index\n",
    "ids_test = pd.read_csv(QML_DATA_DIR + 'ids_test.csv', index_col='listing_id').index\n",
    "train = pd.read_csv(QML_TRAIN_X_FILE_MASK.format(10), index_col='listing_id')\n",
    "test = pd.read_csv(QML_TEST_X_FILE_MASK.format(10), index_col='listing_id')\n",
    "all = pd.concat([train, test])\n",
    "\n",
    "\n",
    "\n",
    "        \n",
    "del all['build_objects_count']\n",
    "del all['build_objects_high']## = raw['building_id'].replace(repl_dict1)\n",
    "del all['build_objects_medium']# = raw['building_id'].replace(repl_dict2)\n",
    "del all['build_objects_low']# = raw['building_id'].replace(repl_dict3)\n",
    "\n",
    "del all['build_objects_high_to_count']# = all['build_objects_high'] / (all['build_objects_count'] +1)\n",
    "del all['build_objects_medium_to_count']# = all['build_objects_medium'] / (all['build_objects_count'] +1)\n",
    "del all['build_objects_low_to_count']# = all['build_objects_low'] / (all['build_objects_count'] +1)\n",
    "\n",
    "\n",
    "        \n",
    "del all['man_objects_count']\n",
    "del all['man_objects_high']## = raw['maning_id'].replace(repl_dict1)\n",
    "del all['man_objects_medium']# = raw['maning_id'].replace(repl_dict2)\n",
    "del all['man_objects_low']# = raw['maning_id'].replace(repl_dict3)\n",
    "\n",
    "del all['man_objects_high_to_count']# = all['man_objects_high'] / (all['man_objects_count'] +1)\n",
    "del all['man_objects_medium_to_count']# = all['man_objects_medium'] / (all['man_objects_count'] +1)\n",
    "del all['man_objects_low_to_count']# = all['man_objects_low'] / (all['man_objects_count'] +1)\n",
    "\n",
    "\n",
    "\n",
    "\n",
    "all.loc[ids_train].to_csv(QML_TRAIN_X_FILE_MASK.format(DATA_ID))\n",
    "all.loc[ids_test].to_csv(QML_TEST_X_FILE_MASK.format(DATA_ID))"
   ]
  },
  {
   "cell_type": "code",
   "execution_count": null,
   "metadata": {
    "collapsed": true,
    "deletable": true,
    "editable": true
   },
   "outputs": [],
   "source": []
  },
  {
   "cell_type": "code",
   "execution_count": 15,
   "metadata": {
    "collapsed": true,
    "deletable": true,
    "editable": true
   },
   "outputs": [],
   "source": [
    "DATA_ID = 12\n",
    "ids_train = pd.read_csv(QML_DATA_DIR + 'ids_train.csv', index_col='listing_id').index\n",
    "ids_test = pd.read_csv(QML_DATA_DIR + 'ids_test.csv', index_col='listing_id').index\n",
    "train = pd.read_csv(QML_TRAIN_X_FILE_MASK.format(11), index_col='listing_id')\n",
    "test = pd.read_csv(QML_TEST_X_FILE_MASK.format(11), index_col='listing_id')\n",
    "all = pd.concat([train, test])\n",
    "\n",
    "\n",
    "\n",
    "        \n",
    "all['listing_id'] = all.index.values\n",
    "\n",
    "\n",
    "all.loc[ids_train].to_csv(QML_TRAIN_X_FILE_MASK.format(DATA_ID))\n",
    "all.loc[ids_test].to_csv(QML_TEST_X_FILE_MASK.format(DATA_ID))"
   ]
  },
  {
   "cell_type": "code",
   "execution_count": 16,
   "metadata": {
    "collapsed": false,
    "deletable": true,
    "editable": true
   },
   "outputs": [
    {
     "data": {
      "text/plain": [
       "Index(['bathrooms', 'bedrooms', 'latitude', 'longitude', 'price', 'num_photos',\n",
       "       'num_features', 'num_description_words', 'created_year',\n",
       "       'created_month', 'created_day', 'created_ts', 'pricePerBed',\n",
       "       'pricePerBath', 'pricePerRoom', 'bedPerBath', 'bedBathDiff',\n",
       "       'bedBathSum', 'bedsPerc', 'kazanova_ts', 'kazanova_year',\n",
       "       'kazanova_month', 'kazanova_day', 'kazanova_hour', 'kazanova_weekday',\n",
       "       'kazanova_week', 'kazanova_quarter', 'kazanova_weekend', 'kazanova_wd',\n",
       "       'listing_id'],\n",
       "      dtype='object')"
      ]
     },
     "execution_count": 16,
     "metadata": {},
     "output_type": "execute_result"
    }
   ],
   "source": [
    "all.columns"
   ]
  },
  {
   "cell_type": "code",
   "execution_count": 25,
   "metadata": {
    "collapsed": false,
    "deletable": true,
    "editable": true
   },
   "outputs": [],
   "source": [
    "DATA_ID = 13\n",
    "ids_train = pd.read_csv(QML_DATA_DIR + 'ids_train.csv', index_col='listing_id').index\n",
    "ids_test = pd.read_csv(QML_DATA_DIR + 'ids_test.csv', index_col='listing_id').index\n",
    "train = pd.read_csv(QML_TRAIN_X_FILE_MASK.format(12), index_col='listing_id')\n",
    "test = pd.read_csv(QML_TEST_X_FILE_MASK.format(12), index_col='listing_id')\n",
    "all = pd.concat([train, test])\n",
    "\n",
    "addr = {\n",
    "    '145 28 Street' : (-73.99244,\t40.74708),\n",
    "    'Van Sicklen street' : (\t-73.97504,\t40.59679),\n",
    "    '219 E 28th' : (\t-73.97982,\t40.74179),\n",
    "    '1632 Madison Ave' : (\t-73.94847,\t40.79576),\n",
    "    '41-42 24th St' : (\t-73.94131,\t40.75153),\n",
    "    '450 East 83rd Street' : (\t-73.94899,\t40.77399),\n",
    "    '247 west 87' : (\t-73.97555,\t40.78888),\n",
    "    '118 W 109th' : (\t-73.96273,\t40.8015),\n",
    "    '246 Mott St' : (\t-73.99466,\t40.72328),\n",
    "    '21 W 106th' : (\t-73.96095,\t40.79874),\n",
    "    '338 e. 53':(\t-73.96576,\t40.75591),\n",
    "    '259 Decatur Street':(\t-73.93344,\t40.68165)\n",
    "}\n",
    "\n",
    "all['longitude'].replace({0:all['longitude'].mean()}, inplace=True)\n",
    "all['latitude'].replace({0:all['latitude'].mean()}, inplace=True)\n",
    "\n",
    "\n",
    "all['coord_1'] = all['latitude'] + all['longitude']\n",
    "all['coord_2'] = all['latitude'] - all['longitude']\n",
    "all['coord_3'] = all['latitude'] * all['longitude']\n",
    "\n",
    "\n",
    "\n",
    "\n",
    "#ny_lat = 40.785091\n",
    "#ny_lon = -73.968285\n",
    "\n",
    "#all['dist_center'] = ((all['longitude'] - ny_lon)**2  + (all['latitude'] - ny_lat)**2)**0.5\n",
    "\n",
    "all.loc[ids_train].to_csv(QML_TRAIN_X_FILE_MASK.format(DATA_ID))\n",
    "all.loc[ids_test].to_csv(QML_TEST_X_FILE_MASK.format(DATA_ID))"
   ]
  },
  {
   "cell_type": "code",
   "execution_count": 17,
   "metadata": {
    "collapsed": true,
    "deletable": true,
    "editable": true
   },
   "outputs": [],
   "source": []
  },
  {
   "cell_type": "code",
   "execution_count": 26,
   "metadata": {
    "collapsed": true,
    "deletable": true,
    "editable": true
   },
   "outputs": [],
   "source": [
    "DATA_ID = 14\n",
    "ids_train = pd.read_csv(QML_DATA_DIR + 'ids_train.csv', index_col='listing_id').index\n",
    "ids_test = pd.read_csv(QML_DATA_DIR + 'ids_test.csv', index_col='listing_id').index\n",
    "train = pd.read_csv(QML_TRAIN_X_FILE_MASK.format(13), index_col='listing_id')\n",
    "test = pd.read_csv(QML_TEST_X_FILE_MASK.format(13), index_col='listing_id')\n",
    "all = pd.concat([train, test])\n",
    "\n",
    "\n",
    "ny_lat = 40.785091\n",
    "ny_lon = -73.968285\n",
    "\n",
    "all['dist_center'] = ((all['longitude'] - ny_lon)**2  + (all['latitude'] - ny_lat)**2)**0.5\n",
    "\n",
    "all.loc[ids_train].to_csv(QML_TRAIN_X_FILE_MASK.format(DATA_ID))\n",
    "all.loc[ids_test].to_csv(QML_TEST_X_FILE_MASK.format(DATA_ID))"
   ]
  },
  {
   "cell_type": "code",
   "execution_count": null,
   "metadata": {
    "collapsed": true,
    "deletable": true,
    "editable": true
   },
   "outputs": [],
   "source": []
  },
  {
   "cell_type": "code",
   "execution_count": 60,
   "metadata": {
    "collapsed": true,
    "deletable": true,
    "editable": true
   },
   "outputs": [],
   "source": [
    "DATA_ID = 15\n",
    "ids_train = pd.read_csv(QML_DATA_DIR + 'ids_train.csv', index_col='listing_id').index\n",
    "ids_test = pd.read_csv(QML_DATA_DIR + 'ids_test.csv', index_col='listing_id').index\n",
    "train = pd.read_csv(QML_TRAIN_X_FILE_MASK.format(14), index_col='listing_id')\n",
    "test = pd.read_csv(QML_TEST_X_FILE_MASK.format(14), index_col='listing_id')\n",
    "all = pd.concat([train, test])\n",
    "\n",
    "\n",
    "raw1 = pd.read_json(QML_DATA_DIR + \"raw/train.json\")\n",
    "raw1.set_index('listing_id', inplace=True)\n",
    "raw2 = pd.read_json(QML_DATA_DIR + \"raw/test.json\")\n",
    "raw2.set_index('listing_id', inplace=True)\n",
    "raw = pd.concat([raw1, raw2])\n",
    "\n",
    "col = raw.groupby('manager_id')['manager_id'].count().sort_values(ascending=False)\n",
    "col[200:] = None\n",
    "\n",
    "\n",
    "all['man'] = raw['manager_id'].replace(col[200:].to_dict())\n",
    "all = pd.get_dummies(all, columns=['man'])\n",
    "\n",
    "\n",
    "all.loc[ids_train].to_csv(QML_TRAIN_X_FILE_MASK.format(DATA_ID))\n",
    "all.loc[ids_test].to_csv(QML_TEST_X_FILE_MASK.format(DATA_ID))"
   ]
  },
  {
   "cell_type": "code",
   "execution_count": 59,
   "metadata": {
    "collapsed": false,
    "deletable": true,
    "editable": true
   },
   "outputs": [
    {
     "data": {
      "text/plain": [
       "(124011, 34)"
      ]
     },
     "execution_count": 59,
     "metadata": {},
     "output_type": "execute_result"
    }
   ],
   "source": []
  },
  {
   "cell_type": "code",
   "execution_count": 3,
   "metadata": {
    "collapsed": true,
    "deletable": true,
    "editable": true
   },
   "outputs": [],
   "source": [
    "DATA_ID = 16\n",
    "ids_train = pd.read_csv(QML_DATA_DIR + 'ids_train.csv', index_col='listing_id').index\n",
    "ids_test = pd.read_csv(QML_DATA_DIR + 'ids_test.csv', index_col='listing_id').index\n",
    "train = pd.read_csv(QML_TRAIN_X_FILE_MASK.format(14), index_col='listing_id')\n",
    "test = pd.read_csv(QML_TEST_X_FILE_MASK.format(14), index_col='listing_id')\n",
    "all = pd.concat([train, test])\n",
    "\n",
    "\n",
    "raw1 = pd.read_json(QML_DATA_DIR + \"raw/train.json\")\n",
    "raw1.set_index('listing_id', inplace=True)\n",
    "raw2 = pd.read_json(QML_DATA_DIR + \"raw/test.json\")\n",
    "raw2.set_index('listing_id', inplace=True)\n",
    "raw = pd.concat([raw1, raw2])\n",
    "\n",
    "col = raw.groupby('building_id')['building_id'].count().sort_values(ascending=False)\n",
    "col[200:] = None\n",
    "\n",
    "all['building'] = raw['building_id'].replace(col[200:].to_dict())\n",
    "all = pd.get_dummies(all, columns=['building'])\n",
    "\n",
    "\n",
    "all.loc[ids_train].to_csv(QML_TRAIN_X_FILE_MASK.format(DATA_ID))\n",
    "all.loc[ids_test].to_csv(QML_TEST_X_FILE_MASK.format(DATA_ID))"
   ]
  },
  {
   "cell_type": "code",
   "execution_count": null,
   "metadata": {
    "collapsed": true,
    "deletable": true,
    "editable": true
   },
   "outputs": [],
   "source": []
  },
  {
   "cell_type": "code",
   "execution_count": 8,
   "metadata": {
    "collapsed": true,
    "deletable": true,
    "editable": true
   },
   "outputs": [],
   "source": [
    "DATA_ID = 17\n",
    "ids_train = pd.read_csv(QML_DATA_DIR + 'ids_train.csv', index_col='listing_id').index\n",
    "ids_test = pd.read_csv(QML_DATA_DIR + 'ids_test.csv', index_col='listing_id').index\n",
    "train = pd.read_csv(QML_TRAIN_X_FILE_MASK.format(14), index_col='listing_id')\n",
    "test = pd.read_csv(QML_TEST_X_FILE_MASK.format(14), index_col='listing_id')\n",
    "all = pd.concat([train, test])\n",
    "\n",
    "\n",
    "raw1 = pd.read_json(QML_DATA_DIR + \"raw/train.json\")\n",
    "raw1.set_index('listing_id', inplace=True)\n",
    "raw2 = pd.read_json(QML_DATA_DIR + \"raw/test.json\")\n",
    "raw2.set_index('listing_id', inplace=True)\n",
    "raw = pd.concat([raw1, raw2])\n",
    "\n",
    "col = raw.groupby('display_address')['display_address'].count().sort_values(ascending=False)\n",
    "col[200:] = None\n",
    "\n",
    "all['display_address'] = raw['display_address'].replace(col[200:].to_dict())\n",
    "all = pd.get_dummies(all, columns=['display_address'])\n",
    "\n",
    "\n",
    "all.loc[ids_train].to_csv(QML_TRAIN_X_FILE_MASK.format(DATA_ID))\n",
    "all.loc[ids_test].to_csv(QML_TEST_X_FILE_MASK.format(DATA_ID))"
   ]
  },
  {
   "cell_type": "code",
   "execution_count": null,
   "metadata": {
    "collapsed": true,
    "deletable": true,
    "editable": true
   },
   "outputs": [],
   "source": []
  },
  {
   "cell_type": "code",
   "execution_count": null,
   "metadata": {
    "collapsed": false,
    "deletable": true,
    "editable": true
   },
   "outputs": [],
   "source": [
    "DATA_ID = 18\n",
    "ids_train = pd.read_csv(QML_DATA_DIR + 'ids_train.csv', index_col='listing_id').index\n",
    "ids_test = pd.read_csv(QML_DATA_DIR + 'ids_test.csv', index_col='listing_id').index\n",
    "train = pd.read_csv(QML_TRAIN_X_FILE_MASK.format(14), index_col='listing_id')\n",
    "test = pd.read_csv(QML_TEST_X_FILE_MASK.format(14), index_col='listing_id')\n",
    "all = pd.concat([train, test])\n",
    "\n",
    "\n",
    "raw1 = pd.read_json(QML_DATA_DIR + \"raw/train.json\")\n",
    "raw1.set_index('listing_id', inplace=True)\n",
    "raw2 = pd.read_json(QML_DATA_DIR + \"raw/test.json\")\n",
    "raw2.set_index('listing_id', inplace=True)\n",
    "raw = pd.concat([raw1, raw2])\n",
    "\n",
    "col = raw.groupby('display_address')['display_address'].count().sort_values(ascending=False)\n",
    "col[200:] = None\n",
    "\n",
    "all['display_address'] = raw['display_address'].replace(col[200:].to_dict())\n",
    "all = pd.get_dummies(all, columns=['display_address'])\n",
    "\n",
    "\n",
    "all.loc[ids_train].to_csv(QML_TRAIN_X_FILE_MASK.format(DATA_ID))\n",
    "all.loc[ids_test].to_csv(QML_TEST_X_FILE_MASK.format(DATA_ID))"
   ]
  },
  {
   "cell_type": "code",
   "execution_count": null,
   "metadata": {
    "collapsed": true,
    "deletable": true,
    "editable": true
   },
   "outputs": [],
   "source": []
  },
  {
   "cell_type": "code",
   "execution_count": null,
   "metadata": {
    "collapsed": true,
    "deletable": true,
    "editable": true
   },
   "outputs": [],
   "source": []
  }
 ],
 "metadata": {
  "kernelspec": {
   "display_name": "Python 3",
   "language": "python",
   "name": "python3"
  },
  "language_info": {
   "codemirror_mode": {
    "name": "ipython",
    "version": 3
   },
   "file_extension": ".py",
   "mimetype": "text/x-python",
   "name": "python",
   "nbconvert_exporter": "python",
   "pygments_lexer": "ipython3",
   "version": "3.6.0"
  }
 },
 "nbformat": 4,
 "nbformat_minor": 0
}
